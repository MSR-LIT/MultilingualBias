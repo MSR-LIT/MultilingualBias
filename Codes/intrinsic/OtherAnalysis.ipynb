{
 "cells": [
  {
   "cell_type": "markdown",
   "metadata": {},
   "source": [
    "Try to understand why aligning to ES makes the delta different"
   ]
  },
  {
   "cell_type": "code",
   "execution_count": 1,
   "metadata": {},
   "outputs": [],
   "source": [
    "import os\n",
    "import numpy as np"
   ]
  },
  {
   "cell_type": "code",
   "execution_count": 2,
   "metadata": {},
   "outputs": [],
   "source": [
    "from tqdm import tqdm"
   ]
  },
  {
   "cell_type": "code",
   "execution_count": 3,
   "metadata": {},
   "outputs": [],
   "source": [
    "datapath = '/home/t-jizhao/Github/fastText/alignment/data'"
   ]
  },
  {
   "cell_type": "code",
   "execution_count": 4,
   "metadata": {},
   "outputs": [],
   "source": [
    "en2de = {x.strip().split()[0]: x.strip().split()[1] \\\n",
    "         for x in open(os.path.join(datapath, 'en-de.0-5000.txt'), 'r').readlines()}\n",
    "en2es = {x.strip().split()[0]: x.strip().split()[1] \\\n",
    "         for x in open(os.path.join(datapath, 'en-es.0-5000.txt'), 'r').readlines()}\n",
    "en2fr = {x.strip().split()[0]: x.strip().split()[1] \\\n",
    "         for x in open(os.path.join(datapath, 'en-fr.0-5000.txt'), 'r').readlines()}\n",
    "\n",
    "es2en = {x.strip().split()[0]: x.strip().split()[1] \\\n",
    "         for x in open(os.path.join(datapath, 'es-en.0-5000.txt'), 'r').readlines()}\n",
    "es2de = {x.strip().split()[0]: x.strip().split()[1] \\\n",
    "         for x in open(os.path.join(datapath, 'es-de.0-5000.txt'), 'r').readlines()}\n",
    "es2fr = {x.strip().split()[0]: x.strip().split()[1] \\\n",
    "         for x in open(os.path.join(datapath, 'es-fr.0-5000.txt'), 'r').readlines()}\n",
    "\n",
    "\n",
    "de2en = {x.strip().split()[0]: x.strip().split()[1] \\\n",
    "         for x in open(os.path.join(datapath, 'de-en.0-5000.txt'), 'r').readlines()}\n",
    "de2es = {x.strip().split()[0]: x.strip().split()[1] \\\n",
    "         for x in open(os.path.join(datapath, 'de-es.0-5000.txt'), 'r').readlines()}\n",
    "de2fr = {x.strip().split()[0]: x.strip().split()[1] \\\n",
    "         for x in open(os.path.join(datapath, 'de-fr.0-5000.txt'), 'r').readlines()}"
   ]
  },
  {
   "cell_type": "code",
   "execution_count": 5,
   "metadata": {},
   "outputs": [
    {
     "name": "stdout",
     "output_type": "stream",
     "text": [
      "5000 5000 5000\n",
      "4533 4384 4119\n"
     ]
    }
   ],
   "source": [
    "print(len(set(en2es.keys())), len(set(en2de.keys())), len(set(es2en.keys())))\n",
    "print(len(set(en2es.values())), len(set(en2de.values())), len(set(es2en.values())))"
   ]
  },
  {
   "cell_type": "code",
   "execution_count": 6,
   "metadata": {},
   "outputs": [],
   "source": [
    "#EN-ES & ES-EN english and spanish occupation coverage"
   ]
  },
  {
   "cell_type": "code",
   "execution_count": 7,
   "metadata": {},
   "outputs": [],
   "source": [
    "import spacy"
   ]
  },
  {
   "cell_type": "code",
   "execution_count": 8,
   "metadata": {},
   "outputs": [],
   "source": [
    "esnlp = spacy.load('es')"
   ]
  },
  {
   "cell_type": "code",
   "execution_count": 9,
   "metadata": {},
   "outputs": [],
   "source": [
    "en_jobs = [x.strip().lower() for x in open('jobs').readlines()]"
   ]
  },
  {
   "cell_type": "code",
   "execution_count": 32,
   "metadata": {},
   "outputs": [],
   "source": [
    "def count_gender_nouns(alist, fmarkers, mmarkers, nlp):\n",
    "    m_c = 0\n",
    "    f_c = 0\n",
    "    noun_c = 0\n",
    "    for x in alist:\n",
    "        token = nlp(x)\n",
    "        for t in token:\n",
    "            if t.pos_ == 'NOUN':\n",
    "                noun_c += 1\n",
    "                flag = -1\n",
    "                for mk in fmarkers:\n",
    "                    if x.endswith(mk):\n",
    "                        f_c += 1\n",
    "                        flag = 0\n",
    "                        break\n",
    "                if flag != 0:\n",
    "                    for mk in mmarkers:\n",
    "                        if x.endswith(mk):\n",
    "                            m_c += 1\n",
    "                            break\n",
    "    print(\"{}-nouns; {}-feminime nouns; {}-masculine nouns\".format(noun_c, f_c, m_c))"
   ]
  },
  {
   "cell_type": "code",
   "execution_count": 33,
   "metadata": {},
   "outputs": [],
   "source": [
    "es_f_markers = ['a', 'as']\n",
    "es_m_markers = ['o', 'os']"
   ]
  },
  {
   "cell_type": "code",
   "execution_count": 51,
   "metadata": {},
   "outputs": [],
   "source": [
    "es_f = [x.strip() for x in open('es_prof_f', 'r').readlines()]\n",
    "es_m = [x.strip() for x in open('es_prof_m', 'r').readlines()]"
   ]
  },
  {
   "cell_type": "code",
   "execution_count": 34,
   "metadata": {},
   "outputs": [
    {
     "name": "stdout",
     "output_type": "stream",
     "text": [
      "2560-nouns; 708-feminime nouns; 639-masculine nouns\n"
     ]
    }
   ],
   "source": [
    "count_gender_nouns(en2es.values(), es_f_markers, es_m_markers, esnlp)"
   ]
  },
  {
   "cell_type": "code",
   "execution_count": 35,
   "metadata": {},
   "outputs": [
    {
     "name": "stdout",
     "output_type": "stream",
     "text": [
      "2598-nouns; 653-feminime nouns; 628-masculine nouns\n"
     ]
    }
   ],
   "source": [
    "count_gender_nouns(de2es.values(), es_f_markers, es_m_markers, esnlp)"
   ]
  },
  {
   "cell_type": "code",
   "execution_count": 36,
   "metadata": {},
   "outputs": [
    {
     "name": "stdout",
     "output_type": "stream",
     "text": [
      "2657-nouns; 737-feminime nouns; 746-masculine nouns\n"
     ]
    }
   ],
   "source": [
    "count_gender_nouns(es2en.keys(), es_f_markers, es_m_markers, esnlp)"
   ]
  },
  {
   "cell_type": "code",
   "execution_count": 37,
   "metadata": {},
   "outputs": [
    {
     "name": "stdout",
     "output_type": "stream",
     "text": [
      "2760-nouns; 769-feminime nouns; 749-masculine nouns\n"
     ]
    }
   ],
   "source": [
    "count_gender_nouns(es2de.keys(), es_f_markers, es_m_markers, esnlp)"
   ]
  },
  {
   "cell_type": "code",
   "execution_count": 38,
   "metadata": {},
   "outputs": [
    {
     "name": "stdout",
     "output_type": "stream",
     "text": [
      "2801-nouns; 786-feminime nouns; 730-masculine nouns\n"
     ]
    }
   ],
   "source": [
    "count_gender_nouns(es2fr.keys(), es_f_markers, es_m_markers, esnlp)"
   ]
  },
  {
   "cell_type": "code",
   "execution_count": 55,
   "metadata": {},
   "outputs": [
    {
     "data": {
      "text/plain": [
       "(27, 43)"
      ]
     },
     "execution_count": 55,
     "metadata": {},
     "output_type": "execute_result"
    }
   ],
   "source": [
    "len(set(es_f + es_m) & set(en2es.values())), len(set(es_f + es_m) & set(es2en.keys()))"
   ]
  },
  {
   "cell_type": "code",
   "execution_count": 59,
   "metadata": {},
   "outputs": [
    {
     "data": {
      "text/plain": [
       "(42, 35)"
      ]
     },
     "execution_count": 59,
     "metadata": {},
     "output_type": "execute_result"
    }
   ],
   "source": [
    "len(set(es_f + es_m) & set(es2de.keys())), len(set(es_f + es_m) & set(es2fr.keys()))"
   ]
  },
  {
   "cell_type": "code",
   "execution_count": null,
   "metadata": {},
   "outputs": [],
   "source": []
  },
  {
   "cell_type": "code",
   "execution_count": 60,
   "metadata": {},
   "outputs": [],
   "source": [
    "#DE gender indicator\n",
    "m_ind = \"-er, -el, -ling, -ich, -ig, -ner, -ismus, -or, -us, -eich, -ant\"\n",
    "f_ind = \"-e, -ie, -heit, -ei, -in, -ik, -keit, – schaft, -ung, -tät, -ur, -tion\"\n",
    "n_ind = \"-chen, -o, -lein, -en, -il, -ma, -tel, -ment, -nis, -tum, -um\"\n",
    "de_mks, de_fks, de_nks = [], [], []\n",
    "for mi in m_ind.strip().split(', '):\n",
    "    de_mks.append(mi[1:])\n",
    "\n",
    "for fi in f_ind.strip().split(', '):\n",
    "    de_fks.append(fi[1:])\n",
    "    \n",
    "for ni in n_ind.strip().split(', '):\n",
    "    de_nks.append(ni[1:])"
   ]
  },
  {
   "cell_type": "code",
   "execution_count": 40,
   "metadata": {},
   "outputs": [],
   "source": [
    "denlp = spacy.load('de')"
   ]
  },
  {
   "cell_type": "code",
   "execution_count": 56,
   "metadata": {},
   "outputs": [],
   "source": [
    "de_f = [x.strip() for x in open('de_prof_f', 'r').readlines()]\n",
    "de_m = [x.strip() for x in open('de_prof_m', 'r').readlines()]"
   ]
  },
  {
   "cell_type": "code",
   "execution_count": 41,
   "metadata": {},
   "outputs": [
    {
     "name": "stdout",
     "output_type": "stream",
     "text": [
      "123-nouns; 110-feminime nouns; 2-masculine nouns\n"
     ]
    }
   ],
   "source": [
    "count_gender_nouns(en2de.values(), de_fks, de_mks, denlp)"
   ]
  },
  {
   "cell_type": "code",
   "execution_count": 42,
   "metadata": {},
   "outputs": [
    {
     "name": "stdout",
     "output_type": "stream",
     "text": [
      "118-nouns; 103-feminime nouns; 3-masculine nouns\n"
     ]
    }
   ],
   "source": [
    "count_gender_nouns(es2de.values(), de_fks, de_mks, denlp)"
   ]
  },
  {
   "cell_type": "code",
   "execution_count": 43,
   "metadata": {},
   "outputs": [
    {
     "name": "stdout",
     "output_type": "stream",
     "text": [
      "110-nouns; 91-feminime nouns; 3-masculine nouns\n"
     ]
    }
   ],
   "source": [
    "count_gender_nouns(de2en.keys(), de_fks, de_mks, denlp)"
   ]
  },
  {
   "cell_type": "code",
   "execution_count": 44,
   "metadata": {},
   "outputs": [
    {
     "name": "stdout",
     "output_type": "stream",
     "text": [
      "110-nouns; 91-feminime nouns; 3-masculine nouns\n"
     ]
    }
   ],
   "source": [
    "count_gender_nouns(de2es.keys(), de_fks, de_mks, denlp)"
   ]
  },
  {
   "cell_type": "code",
   "execution_count": 61,
   "metadata": {},
   "outputs": [
    {
     "name": "stdout",
     "output_type": "stream",
     "text": [
      "103-nouns; 84-feminime nouns; 3-masculine nouns\n"
     ]
    }
   ],
   "source": [
    "count_gender_nouns(de2fr.keys(), de_fks, de_mks, denlp)"
   ]
  },
  {
   "cell_type": "code",
   "execution_count": 57,
   "metadata": {},
   "outputs": [
    {
     "data": {
      "text/plain": [
       "(36, 56)"
      ]
     },
     "execution_count": 57,
     "metadata": {},
     "output_type": "execute_result"
    }
   ],
   "source": [
    "len(set(de_f + de_m) & set(de2en.keys()))"
   ]
  },
  {
   "cell_type": "code",
   "execution_count": 58,
   "metadata": {},
   "outputs": [
    {
     "data": {
      "text/plain": [
       "(56, 54)"
      ]
     },
     "execution_count": 58,
     "metadata": {},
     "output_type": "execute_result"
    }
   ],
   "source": [
    "len(set(de_f + de_m) & set(de2es.keys())), len(set(de_f + de_m) & set(de2fr.keys()))"
   ]
  },
  {
   "cell_type": "code",
   "execution_count": null,
   "metadata": {},
   "outputs": [],
   "source": []
  },
  {
   "cell_type": "code",
   "execution_count": null,
   "metadata": {},
   "outputs": [],
   "source": [
    "#FR gender indicator"
   ]
  },
  {
   "cell_type": "code",
   "execution_count": 45,
   "metadata": {},
   "outputs": [],
   "source": [
    "m_ind = \"-age, -ment, -il, -ail, -eil, -euil, -é, -eau, -eu, -er, -oir, -isme, -ing, -ard, -am, -um, -em, -it, -est, -an, -and, -ant, -ent, -in, -int, -om, -ond, -ont, -ème, -ège\"\n",
    "f_ind = \"-tion, -sion, -son, -ure, -ude, -ade, -ée, -té, -ière, -euse, -ance, -ence, -ine, -elle, -esse, -ette\"\n",
    "mks, fks, nks = [], [], []\n",
    "for mi in m_ind.strip().split(', '):\n",
    "    mks.append(mi[1:])\n",
    "\n",
    "for fi in f_ind.strip().split(', '):\n",
    "    fks.append(fi[1:])"
   ]
  },
  {
   "cell_type": "code",
   "execution_count": 46,
   "metadata": {},
   "outputs": [],
   "source": [
    "frnlp = spacy.load('fr')"
   ]
  },
  {
   "cell_type": "code",
   "execution_count": 47,
   "metadata": {},
   "outputs": [
    {
     "name": "stdout",
     "output_type": "stream",
     "text": [
      "2448-nouns; 418-feminime nouns; 289-masculine nouns\n"
     ]
    }
   ],
   "source": [
    "count_gender_nouns(en2fr.values(), fks, mks, frnlp)"
   ]
  },
  {
   "cell_type": "code",
   "execution_count": 48,
   "metadata": {},
   "outputs": [
    {
     "name": "stdout",
     "output_type": "stream",
     "text": [
      "2556-nouns; 489-feminime nouns; 296-masculine nouns\n"
     ]
    }
   ],
   "source": [
    "count_gender_nouns(es2fr.values(), fks, mks, frnlp)"
   ]
  },
  {
   "cell_type": "code",
   "execution_count": 49,
   "metadata": {},
   "outputs": [
    {
     "name": "stdout",
     "output_type": "stream",
     "text": [
      "2604-nouns; 428-feminime nouns; 327-masculine nouns\n"
     ]
    }
   ],
   "source": [
    "count_gender_nouns(de2fr.values(), fks, mks, frnlp)"
   ]
  },
  {
   "cell_type": "code",
   "execution_count": 50,
   "metadata": {},
   "outputs": [
    {
     "name": "stdout",
     "output_type": "stream",
     "text": [
      "2801-nouns; 786-feminime nouns; 730-masculine nouns\n"
     ]
    }
   ],
   "source": [
    "count_gender_nouns(es2fr.keys(), es_f_markers, es_m_markers, esnlp)"
   ]
  },
  {
   "cell_type": "code",
   "execution_count": null,
   "metadata": {},
   "outputs": [],
   "source": []
  },
  {
   "cell_type": "code",
   "execution_count": null,
   "metadata": {},
   "outputs": [],
   "source": []
  },
  {
   "cell_type": "code",
   "execution_count": 1,
   "metadata": {},
   "outputs": [],
   "source": [
    "import json"
   ]
  },
  {
   "cell_type": "code",
   "execution_count": 2,
   "metadata": {},
   "outputs": [],
   "source": [
    "freq_titles_de = {}\n",
    "with open('freq_titles_de', 'r') as f:\n",
    "    for line in f.readlines():\n",
    "        tokens = line.strip().split('\\t')\n",
    "        en = tokens[2]\n",
    "        de_m = tokens[0]\n",
    "        de_f = tokens[1]\n",
    "        freq_titles_de[de_m] = en\n",
    "        freq_titles_de[de_f] = en"
   ]
  },
  {
   "cell_type": "code",
   "execution_count": 4,
   "metadata": {},
   "outputs": [],
   "source": [
    "json.dump(freq_titles_de, open('/tmp/t-jizhao/data/biosbias/freq_titles_de.json', 'w'))"
   ]
  },
  {
   "cell_type": "code",
   "execution_count": null,
   "metadata": {},
   "outputs": [],
   "source": []
  }
 ],
 "metadata": {
  "kernelspec": {
   "display_name": "Python [conda env:py35]",
   "language": "python",
   "name": "conda-env-py35-py"
  },
  "language_info": {
   "codemirror_mode": {
    "name": "ipython",
    "version": 3
   },
   "file_extension": ".py",
   "mimetype": "text/x-python",
   "name": "python",
   "nbconvert_exporter": "python",
   "pygments_lexer": "ipython3",
   "version": "3.5.5"
  }
 },
 "nbformat": 4,
 "nbformat_minor": 2
}

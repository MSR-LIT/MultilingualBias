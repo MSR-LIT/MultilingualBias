{
 "cells": [
  {
   "cell_type": "code",
   "execution_count": 1,
   "metadata": {},
   "outputs": [],
   "source": [
    "%load_ext autoreload\n",
    "%autoreload 2"
   ]
  },
  {
   "cell_type": "code",
   "execution_count": 2,
   "metadata": {},
   "outputs": [],
   "source": [
    "import pickle as pkl"
   ]
  },
  {
   "cell_type": "code",
   "execution_count": 3,
   "metadata": {},
   "outputs": [],
   "source": [
    "import sys"
   ]
  },
  {
   "cell_type": "code",
   "execution_count": 4,
   "metadata": {},
   "outputs": [],
   "source": [
    "sys.path.insert(0, \"/home/jyzhao/git7/Gender_bias_in-Cross_Lingual_Transfer_Learning/bios_codes\")"
   ]
  },
  {
   "cell_type": "code",
   "execution_count": 5,
   "metadata": {},
   "outputs": [],
   "source": [
    "import os"
   ]
  },
  {
   "cell_type": "code",
   "execution_count": 6,
   "metadata": {},
   "outputs": [],
   "source": [
    "from collections import Counter, defaultdict"
   ]
  },
  {
   "cell_type": "code",
   "execution_count": 7,
   "metadata": {},
   "outputs": [],
   "source": [
    "from utils import *"
   ]
  },
  {
   "cell_type": "code",
   "execution_count": 8,
   "metadata": {},
   "outputs": [],
   "source": [
    "from matplotlib import pyplot as plt"
   ]
  },
  {
   "cell_type": "code",
   "execution_count": 9,
   "metadata": {},
   "outputs": [],
   "source": [
    "# import preprocess as pre"
   ]
  },
  {
   "cell_type": "code",
   "execution_count": 10,
   "metadata": {},
   "outputs": [],
   "source": [
    "def load_titles(CACHE_DIR, filtered=''):\n",
    "    titles_train, titles_val, titles_test = load_pickle(os.path.join(CACHE_DIR, f'titles.pkl{filtered}'))\n",
    "    print(f'Titles: {len(titles_train)}, {len(titles_val)}, {len(titles_test)}')\n",
    "\n",
    "    return titles_train, titles_val, titles_test"
   ]
  },
  {
   "cell_type": "code",
   "execution_count": 11,
   "metadata": {},
   "outputs": [],
   "source": [
    "def load_bios_seq(scrubbed, CACHE_DIR, filtered=''):\n",
    "    filename = f'bios_seq_scrubbed.pkl{filtered}' if scrubbed else f'bios_seq_no_scrubbed.pkl{filtered}'\n",
    "\n",
    "    print(f\"Loading {filename}\")\n",
    "    bios_train, bios_val, bios_test = load_pickle(os.path.join(CACHE_DIR, filename))\n",
    "    print(f'Bios: {bios_train.shape}, {bios_val.shape}, {bios_test.shape}')\n",
    "\n",
    "    return bios_train, bios_val, bios_test"
   ]
  },
  {
   "cell_type": "code",
   "execution_count": 12,
   "metadata": {},
   "outputs": [],
   "source": [
    "def load_bios_raw(CACHE_DIR, filtered=''):\n",
    "    filename = f'bios_raw.pkl{filtered}'\n",
    "\n",
    "    print(f\"Loading {filename}\")\n",
    "    bios_train, bios_val, bios_test = load_pickle(os.path.join(CACHE_DIR, filename))\n",
    "    print(f'Bios: {len(bios_train)}, {len(bios_val)}, {len(bios_test)}')\n",
    "\n",
    "    return bios_train, bios_val, bios_test"
   ]
  },
  {
   "cell_type": "code",
   "execution_count": 13,
   "metadata": {},
   "outputs": [],
   "source": [
    "def load_vectorizers(CACHE_DIR):\n",
    "    vectorizer_scrubbed, vectorizer_no_scrubbed, titles_encoder = load_pickle(os.path.join(CACHE_DIR, 'vectorizers.pkl'))\n",
    "    print(f'Vectorizer scrubbed: {len(vectorizer_scrubbed.get_feature_names())}')\n",
    "    print(f'Vectorizer no scrubbed: {len(vectorizer_no_scrubbed.get_feature_names())}')\n",
    "    print(f'Titles: {len(titles_encoder.classes_)}')\n",
    "\n",
    "    return vectorizer_scrubbed, vectorizer_no_scrubbed, titles_encoder"
   ]
  },
  {
   "cell_type": "code",
   "execution_count": 14,
   "metadata": {},
   "outputs": [],
   "source": [
    "def load_vocab(scrubbed, CACHE_DIR):\n",
    "    vectorizer_scrubbed, vectorizer_no_scrubbed, _ = load_vectorizers(CACHE_DIR)\n",
    "    vectorizer = vectorizer_scrubbed if scrubbed else vectorizer_no_scrubbed\n",
    "    vocab = vectorizer.vocabulary_\n",
    "\n",
    "    return vocab"
   ]
  },
  {
   "cell_type": "code",
   "execution_count": 15,
   "metadata": {},
   "outputs": [],
   "source": [
    "def load_prediction(scrubbed, model_name, pred_name, CACHE_DIR):\n",
    "    filename = 'pred-scrub-'+model_name + pred_name + '.pkl' \\\n",
    "    if scrubbed else 'pred-no_scrub-'+model_name+pred_name + '.pkl'\n",
    "    predictions = load_pickle(os.path.join(CACHE_DIR, filename))\n",
    "    return predictions"
   ]
  },
  {
   "cell_type": "code",
   "execution_count": 112,
   "metadata": {},
   "outputs": [],
   "source": [
    "ES_CACHE_DIR = '/home/jyzhao/git7/Gender_bias_in-Cross_Lingual_Transfer_Learning\\\n",
    "/BiosBias/ES/cache_8l/finetune'"
   ]
  },
  {
   "cell_type": "code",
   "execution_count": 337,
   "metadata": {},
   "outputs": [],
   "source": [
    "EN_CACHE_DIR = '/home/jyzhao/git7/Gender_bias_in-Cross_Lingual_Transfer_Learning\\\n",
    "/BiosBias/EN/cache_gender_balanced/finetune'"
   ]
  },
  {
   "cell_type": "code",
   "execution_count": 338,
   "metadata": {},
   "outputs": [],
   "source": [
    "en_test_gender_balanced = load_pickle(os.path.join(EN_CACHE_DIR, 'bios_raw.pkl'))"
   ]
  },
  {
   "cell_type": "code",
   "execution_count": 168,
   "metadata": {},
   "outputs": [],
   "source": [
    "EN_CACHE_DIR = '/home/jyzhao/git7/Gender_bias_in-Cross_Lingual_Transfer_Learning/BiosBias/EN/cache_8l'\n",
    "ES_CACHE_DIR = '/home/jyzhao/git7/Gender_bias_in-Cross_Lingual_Transfer_Learning\\\n",
    "/BiosBias/ES/cache_8l'"
   ]
  },
  {
   "cell_type": "code",
   "execution_count": 169,
   "metadata": {},
   "outputs": [
    {
     "name": "stdout",
     "output_type": "stream",
     "text": [
      "Loading bios_raw.pkl\n",
      "Bios: 12307, 4103, 4103\n",
      "Loading bios_raw.pkl\n",
      "Bios: 12307, 4103, 4103\n",
      "Titles: 12307, 4103, 4103\n"
     ]
    }
   ],
   "source": [
    "filtered=''\n",
    "es_train_scrub, es_val_scrub, es_test_scrub = load_bios_raw(ES_CACHE_DIR, filtered)\n",
    "es_train_noscrub, es_val_noscrub, es_test_noscrub = load_bios_raw(ES_CACHE_DIR, filtered)\n",
    "es_titles_train, es_titles_val, es_titles_test = load_titles(ES_CACHE_DIR, filtered)"
   ]
  },
  {
   "cell_type": "code",
   "execution_count": 170,
   "metadata": {},
   "outputs": [
    {
     "name": "stdout",
     "output_type": "stream",
     "text": [
      "Vectorizer scrubbed: 8608\n",
      "Vectorizer no scrubbed: 8608\n",
      "Titles: 8\n"
     ]
    }
   ],
   "source": [
    "v_s, v_ns, te = load_vectorizers(EN_CACHE_DIR)"
   ]
  },
  {
   "cell_type": "code",
   "execution_count": 339,
   "metadata": {},
   "outputs": [
    {
     "name": "stdout",
     "output_type": "stream",
     "text": [
      "Loading bios_raw.pkl\n",
      "Bios: 7770, 2604, 10510\n",
      "Titles: 7770, 2604, 10510\n"
     ]
    }
   ],
   "source": [
    "filtered=''\n",
    "en_train_scrub, en_val_scrub, en_test_scrub = load_bios_raw(EN_CACHE_DIR, filtered)\n",
    "en_titles_train, en_titles_val, en_titles_test = load_titles(EN_CACHE_DIR, filtered)"
   ]
  },
  {
   "cell_type": "code",
   "execution_count": 340,
   "metadata": {},
   "outputs": [
    {
     "name": "stdout",
     "output_type": "stream",
     "text": [
      "Loading bios_seq_scrubbed.pkl\n",
      "Bios: (7770, 110), (2604, 110), (10510, 110)\n",
      "Loading bios_seq_no_scrubbed.pkl\n",
      "Bios: (7770, 110), (2604, 110), (10510, 110)\n"
     ]
    }
   ],
   "source": [
    "en_train_scrub_seq, en_val_scrub_seq, en_test_scrub_seq = \\\n",
    "load_bios_seq(True, EN_CACHE_DIR)\n",
    "en_train_noscrub_seq, en_val_noscrub_seq, en_test_noscrub_seq = \\\n",
    "load_bios_seq(False, EN_CACHE_DIR)"
   ]
  },
  {
   "cell_type": "code",
   "execution_count": 173,
   "metadata": {},
   "outputs": [
    {
     "name": "stdout",
     "output_type": "stream",
     "text": [
      "Loading bios_raw.pkl\n",
      "Bios: 12307, 4103, 4103\n",
      "Loading bios_raw.pkl\n",
      "Bios: 12307, 4103, 4103\n",
      "Titles: 12307, 4103, 4103\n"
     ]
    }
   ],
   "source": [
    "filtered=''\n",
    "es_train_scrub, es_val_scrub, es_test_scrub = load_bios_raw(ES_CACHE_DIR, filtered)\n",
    "es_train_noscrub, es_val_noscrub, es_test_noscrub = load_bios_raw(ES_CACHE_DIR, filtered)\n",
    "es_titles_train, es_titles_val, es_titles_test = load_titles(ES_CACHE_DIR, filtered)"
   ]
  },
  {
   "cell_type": "code",
   "execution_count": 174,
   "metadata": {},
   "outputs": [
    {
     "name": "stdout",
     "output_type": "stream",
     "text": [
      "Loading bios_seq_scrubbed.pkl\n",
      "Bios: (12307, 110), (4103, 110), (4103, 110)\n",
      "Loading bios_seq_no_scrubbed.pkl\n",
      "Bios: (12307, 110), (4103, 110), (4103, 110)\n"
     ]
    }
   ],
   "source": [
    "es_train_scrub_seq, es_val_scrub_seq, es_test_scrub_seq = \\\n",
    "load_bios_seq(True, ES_CACHE_DIR)\n",
    "es_train_noscrub_seq, es_val_noscrub_seq, es_test_noscrub_seq = \\\n",
    "load_bios_seq(False, ES_CACHE_DIR)"
   ]
  },
  {
   "cell_type": "code",
   "execution_count": null,
   "metadata": {},
   "outputs": [],
   "source": []
  },
  {
   "cell_type": "code",
   "execution_count": 68,
   "metadata": {},
   "outputs": [],
   "source": [
    "FR_CACHE_DIR = '/home/jyzhao/git7/Gender_bias_in-Cross_Lingual_Transfer_Learning\\\n",
    "/BiosBias/FR/cache_7l'"
   ]
  },
  {
   "cell_type": "code",
   "execution_count": 69,
   "metadata": {},
   "outputs": [
    {
     "name": "stdout",
     "output_type": "stream",
     "text": [
      "Loading bios_raw.pkl\n",
      "Bios: 5491, 1827, 1844\n",
      "Loading bios_raw.pkl\n",
      "Bios: 5491, 1827, 1844\n",
      "Titles: 5491, 1827, 1844\n"
     ]
    }
   ],
   "source": [
    "filtered=''\n",
    "fr_train_scrub, fr_val_scrub, fr_test_scrub = load_bios_raw(FR_CACHE_DIR, filtered)\n",
    "fr_train_noscrub, fr_val_noscrub, fr_test_noscrub = load_bios_raw(FR_CACHE_DIR, filtered)\n",
    "fr_titles_train, fr_titles_val, fr_titles_test = load_titles(FR_CACHE_DIR, filtered)"
   ]
  },
  {
   "cell_type": "code",
   "execution_count": 70,
   "metadata": {},
   "outputs": [
    {
     "name": "stdout",
     "output_type": "stream",
     "text": [
      "Loading bios_seq_scrubbed.pkl\n",
      "Bios: (5491, 110), (1827, 110), (1844, 110)\n",
      "Loading bios_seq_no_scrubbed.pkl\n",
      "Bios: (5491, 110), (1827, 110), (1844, 110)\n"
     ]
    }
   ],
   "source": [
    "fr_train_scrub_seq, fr_val_scrub_seq, fr_test_scrub_seq = \\\n",
    "load_bios_seq(True, FR_CACHE_DIR)\n",
    "fr_train_noscrub_seq, fr_val_noscrub_seq, fr_test_noscrub_seq = \\\n",
    "load_bios_seq(False, FR_CACHE_DIR)"
   ]
  },
  {
   "cell_type": "code",
   "execution_count": null,
   "metadata": {},
   "outputs": [],
   "source": []
  },
  {
   "cell_type": "code",
   "execution_count": 228,
   "metadata": {},
   "outputs": [],
   "source": [
    "DE_CACHE_DIR = '/home/jyzhao/git7/Gender_bias_in-Cross_Lingual_Transfer_Learning\\\n",
    "/BiosBias/DE/cache_gender_balanced/'"
   ]
  },
  {
   "cell_type": "code",
   "execution_count": 229,
   "metadata": {},
   "outputs": [
    {
     "name": "stdout",
     "output_type": "stream",
     "text": [
      "Loading bios_raw.pkl\n",
      "Bios: 5856, 1954, 1334\n",
      "Loading bios_raw.pkl\n",
      "Bios: 5856, 1954, 1334\n",
      "Titles: 5856, 1954, 1334\n"
     ]
    }
   ],
   "source": [
    "filtered=''\n",
    "de_train_scrub, de_val_scrub, de_test_scrub = load_bios_raw(DE_CACHE_DIR, filtered)\n",
    "de_train_noscrub, de_val_noscrub, de_test_noscrub = load_bios_raw(DE_CACHE_DIR, filtered)\n",
    "de_titles_train, de_titles_val, de_titles_test = load_titles(DE_CACHE_DIR, filtered)"
   ]
  },
  {
   "cell_type": "code",
   "execution_count": 230,
   "metadata": {},
   "outputs": [
    {
     "name": "stdout",
     "output_type": "stream",
     "text": [
      "Loading bios_seq_scrubbed.pkl\n",
      "Bios: (5856, 110), (1954, 110), (1334, 110)\n",
      "Loading bios_seq_no_scrubbed.pkl\n",
      "Bios: (5856, 110), (1954, 110), (1334, 110)\n"
     ]
    }
   ],
   "source": [
    "de_train_scrub_seq, de_val_scrub_seq, de_test_scrub_seq = \\\n",
    "load_bios_seq(True, DE_CACHE_DIR)\n",
    "de_train_noscrub_seq, de_val_noscrub_seq, de_test_noscrub_seq = \\\n",
    "load_bios_seq(False, DE_CACHE_DIR)"
   ]
  },
  {
   "cell_type": "code",
   "execution_count": null,
   "metadata": {},
   "outputs": [],
   "source": []
  },
  {
   "cell_type": "code",
   "execution_count": 231,
   "metadata": {},
   "outputs": [
    {
     "data": {
      "text/plain": [
       "Counter({'journalist': 2412,\n",
       "         'teacher': 946,\n",
       "         'architect': 958,\n",
       "         'painter': 406,\n",
       "         'poet': 196,\n",
       "         'professor': 268,\n",
       "         'psychologist': 590,\n",
       "         'model': 80})"
      ]
     },
     "execution_count": 231,
     "metadata": {},
     "output_type": "execute_result"
    }
   ],
   "source": [
    "Counter([x['title'] for x in de_train_scrub])"
   ]
  },
  {
   "cell_type": "code",
   "execution_count": 232,
   "metadata": {},
   "outputs": [],
   "source": [
    "def get_counts(dataset):\n",
    "    counts = defaultdict(list)\n",
    "    for x in dataset:\n",
    "        if x['gender'] == 'M':\n",
    "            counts[x['title']].append('M')\n",
    "        elif x['gender'] == 'F':\n",
    "            counts[x['title']].append('F')\n",
    "        else:\n",
    "            print(\"Wrong gender\")\n",
    "    for t in counts:\n",
    "        print(t + '\\t', Counter(counts[t]))\n",
    "    return counts"
   ]
  },
  {
   "cell_type": "code",
   "execution_count": 233,
   "metadata": {},
   "outputs": [
    {
     "name": "stdout",
     "output_type": "stream",
     "text": [
      "journalist\t Counter({'M': 1206, 'F': 1206})\n",
      "teacher\t Counter({'F': 473, 'M': 473})\n",
      "architect\t Counter({'F': 479, 'M': 479})\n",
      "painter\t Counter({'F': 203, 'M': 203})\n",
      "poet\t Counter({'M': 98, 'F': 98})\n",
      "professor\t Counter({'F': 134, 'M': 134})\n",
      "psychologist\t Counter({'M': 295, 'F': 295})\n",
      "model\t Counter({'M': 40, 'F': 40})\n"
     ]
    }
   ],
   "source": [
    "c_test = get_counts(de_train_scrub)"
   ]
  },
  {
   "cell_type": "code",
   "execution_count": 21,
   "metadata": {},
   "outputs": [],
   "source": [
    "from matplotlib import pyplot as plt"
   ]
  },
  {
   "cell_type": "code",
   "execution_count": 22,
   "metadata": {},
   "outputs": [],
   "source": [
    "from sklearn.utils import compute_class_weight"
   ]
  },
  {
   "cell_type": "code",
   "execution_count": 23,
   "metadata": {},
   "outputs": [],
   "source": [
    "import random\n",
    "random.seed(1110)"
   ]
  },
  {
   "cell_type": "code",
   "execution_count": 24,
   "metadata": {},
   "outputs": [],
   "source": [
    "from collections import defaultdict"
   ]
  },
  {
   "cell_type": "code",
   "execution_count": 25,
   "metadata": {},
   "outputs": [],
   "source": [
    "base_path = '/home/jyzhao/git7/Gender_bias_in-Cross_Lingual_Transfer_Learning/'"
   ]
  },
  {
   "cell_type": "code",
   "execution_count": 26,
   "metadata": {},
   "outputs": [],
   "source": [
    "def get_res(prediction, es_test_scrub, es_titles_test):\n",
    "    res = defaultdict(list)\n",
    "    for idx in range(len(prediction)):\n",
    "        gender = es_test_scrub[idx]['gender']\n",
    "        if es_test_scrub[idx]['title'] in ['accountant', 'dentist']:\n",
    "            continue\n",
    "        if gender == 'M':\n",
    "            res['m'].append([es_test_scrub[idx]['title'], es_titles_test[idx], prediction[idx]])\n",
    "        elif gender == 'F':\n",
    "            res['f'].append([es_test_scrub[idx]['title'], es_titles_test[idx], prediction[idx]])\n",
    "        else:\n",
    "            print('weird gender')\n",
    "    m = np.sum([x[1] == x[2] for x in res['m']])\n",
    "    f = np.sum([x[1] == x[2] for x in res['f']])\n",
    "    print(f\"{len(res['m'])} male instances; {len(res['f'])} female instances\")\n",
    "    print('male acc:', m / len(res['m']))\n",
    "    print('female acc:', f / len(res['f']))\n",
    "    print('diff acc:', m / len(res['m']) - f / len(res['f']))\n",
    "    print('overall acc', (m+f) / (len(res['m'] + res['f'])))\n",
    "    return res"
   ]
  },
  {
   "cell_type": "code",
   "execution_count": 27,
   "metadata": {},
   "outputs": [],
   "source": [
    "def calculate_acc_by_occ(res, gender='m'):\n",
    "    count_res = {}\n",
    "    count_raw = defaultdict(list)\n",
    "    for x in res[gender]:\n",
    "        if x[1] == x[2]:\n",
    "            count_raw[x[0]].append(1)\n",
    "        else:\n",
    "            count_raw[x[0]].append(0)\n",
    "    for x in count_raw:\n",
    "        count_res[x] = np.sum(count_raw[x]) / len(count_raw[x])\n",
    "    return count_res, count_raw"
   ]
  },
  {
   "cell_type": "code",
   "execution_count": 28,
   "metadata": {},
   "outputs": [],
   "source": [
    "import pandas as pd"
   ]
  },
  {
   "cell_type": "code",
   "execution_count": 35,
   "metadata": {},
   "outputs": [
    {
     "data": {
      "text/plain": [
       "Counter({5: 1479, 0: 723, 2: 1508, 3: 1280, 1: 2416, 7: 1644, 6: 392, 4: 1068})"
      ]
     },
     "execution_count": 35,
     "metadata": {},
     "output_type": "execute_result"
    }
   ],
   "source": [
    "Counter(en_titles_test)"
   ]
  },
  {
   "cell_type": "code",
   "execution_count": 341,
   "metadata": {},
   "outputs": [
    {
     "data": {
      "text/plain": [
       "array([1.8170816 , 0.5437707 , 0.871187  , 1.02636719, 1.230103  ,\n",
       "       0.8882691 , 3.35140306, 0.799118  ])"
      ]
     },
     "execution_count": 341,
     "metadata": {},
     "output_type": "execute_result"
    }
   ],
   "source": [
    "en_test_ratio_no_balanced = compute_class_weight('balanced', np.unique(en_titles_test), en_titles_test)\n",
    "en_test_ratio_no_balanced"
   ]
  },
  {
   "cell_type": "code",
   "execution_count": 48,
   "metadata": {},
   "outputs": [
    {
     "data": {
      "text/plain": [
       "<BarContainer object of 8 artists>"
      ]
     },
     "execution_count": 48,
     "metadata": {},
     "output_type": "execute_result"
    },
    {
     "data": {
      "image/png": "[encoded data removed]",
      "text/plain": [
       "<Figure size 432x288 with 1 Axes>"
      ]
     },
     "metadata": {
      "needs_background": "light"
     },
     "output_type": "display_data"
    }
   ],
   "source": [
    "# plt.bar([x for x in Counter(en_titles_test)], [Counter(en_titles_test)[x] for x in Counter(en_titles_test)])"
   ]
  },
  {
   "cell_type": "code",
   "execution_count": 51,
   "metadata": {},
   "outputs": [
    {
     "data": {
      "text/plain": [
       "<BarContainer object of 8 artists>"
      ]
     },
     "execution_count": 51,
     "metadata": {},
     "output_type": "execute_result"
    },
    {
     "data": {
      "image/png": "[encoded data removed]",
      "text/plain": [
       "<Figure size 432x288 with 1 Axes>"
      ]
     },
     "metadata": {
      "needs_background": "light"
     },
     "output_type": "display_data"
    }
   ],
   "source": [
    "# plt.bar([x for x in Counter(en_titles_test)], [Counter(en_titles_test)[x] for x in Counter(en_titles_test)])"
   ]
  },
  {
   "cell_type": "code",
   "execution_count": 208,
   "metadata": {},
   "outputs": [],
   "source": [
    "en_test_ratio = compute_class_weight('balanced', np.unique(en_titles_test), en_titles_test)\n",
    "es_test_ratio = compute_class_weight('balanced', np.unique(es_titles_test), es_titles_test)\n",
    "# en_test_ratio = [Counter(en_titles_test)[x] / sum(Counter(en_titles_test).values()) for x in range(8)]\n",
    "# es_test_ratio = [Counter(es_titles_test)[x] / sum(Counter(es_titles_test).values()) for x in range(8)]"
   ]
  },
  {
   "cell_type": "code",
   "execution_count": 72,
   "metadata": {},
   "outputs": [
    {
     "data": {
      "text/plain": [
       "array([1.93697479, 0.58280657, 0.60697828, 1.09761905, 1.31714286,\n",
       "       3.55984556, 0.85528757])"
      ]
     },
     "execution_count": 72,
     "metadata": {},
     "output_type": "execute_result"
    }
   ],
   "source": [
    "fr_test_ratio = compute_class_weight('balanced', np.unique(fr_titles_test), fr_titles_test)\n",
    "fr_test_ratio"
   ]
  },
  {
   "cell_type": "code",
   "execution_count": 234,
   "metadata": {},
   "outputs": [
    {
     "data": {
      "text/plain": [
       "array([0.92638889, 0.32315891, 8.77631579, 1.83241758, 4.76428571,\n",
       "       2.60546875, 1.13435374, 0.59131206])"
      ]
     },
     "execution_count": 234,
     "metadata": {},
     "output_type": "execute_result"
    }
   ],
   "source": [
    "de_test_ratio = compute_class_weight('balanced', np.unique(de_titles_test), de_titles_test)\n",
    "de_test_ratio"
   ]
  },
  {
   "cell_type": "code",
   "execution_count": 235,
   "metadata": {},
   "outputs": [],
   "source": [
    "def plot_acc_by_occ(res, flag, weight):\n",
    "    plt.close('all')\n",
    "    occ_acc_es2en_m, _ = calculate_acc_by_occ(res, 'm')\n",
    "    occ_acc_es2en_f, _ = calculate_acc_by_occ(res, 'f')\n",
    "    m_df = pd.DataFrame.from_dict(occ_acc_es2en_m, orient='index', columns=['m_acc'])\n",
    "    f_df = pd.DataFrame.from_dict(occ_acc_es2en_f, orient='index', columns=['f_acc'])\n",
    "    df = m_df.join(f_df)\n",
    "#     df = df.drop(['accountant' , 'dentist'])\n",
    "    df['diff'] = df['m_acc'] - df['f_acc']\n",
    "    df['w_diff'] = df['diff'] * weight\n",
    "    df['abs_diff'] = abs(df['diff'])\n",
    "    df['w_abs_diff'] = df['abs_diff'] * weight\n",
    "    df[['m_acc', 'f_acc']].plot(kind='bar', legend=False)\n",
    "    plt.ylim([0,1])\n",
    "    plt.title(f'accuracy of each occupation on {flag}')\n",
    "    plt.savefig(f'figs/{flag}.pdf')\n",
    "    plt.show()\n",
    "    return df"
   ]
  },
  {
   "cell_type": "code",
   "execution_count": 350,
   "metadata": {},
   "outputs": [
    {
     "name": "stdout",
     "output_type": "stream",
     "text": [
      "4927 male instances; 5583 female instances\n",
      "male acc: 0.4172924700629186\n",
      "female acc: 0.46838617230879454\n",
      "diff acc: -0.05109370224587595\n",
      "overall acc 0.4444338725023787\n"
     ]
    },
    {
     "data": {
      "image/png": "[encoded data removed]",
      "text/plain": [
       "<Figure size 432x288 with 1 Axes>"
      ]
     },
     "metadata": {
      "needs_background": "light"
     },
     "output_type": "display_data"
    }
   ],
   "source": [
    "model_f = 'de2endeb-F-endeb'  #en ; es-F-en2es\n",
    "pred_f = '-T-endeb'     #-T-en\n",
    "LAN = 'EN'\n",
    "# prediction_en = load_prediction(False, model_f, pred_f, EN_CACHE_DIR)\n",
    "# res_en = get_res(prediction_en, en_test_scrub, en_titles_test)\n",
    "# df_en_no_scrub = plot_acc_by_occ(res_en, '{}-{}{}-scrubbed'.format(LAN, model_f, pred_f))\n",
    "# print('---')\n",
    "prediction_en = load_prediction(True, model_f, pred_f, os.path.join(EN_CACHE_DIR, ''))\n",
    "res_en = get_res(prediction_en, en_test_scrub, en_titles_test)\n",
    "df_en_scrub = plot_acc_by_occ(res_en, '{}-{}{}-scrubbed'.format(LAN, model_f, pred_f), en_test_ratio)"
   ]
  },
  {
   "cell_type": "code",
   "execution_count": 351,
   "metadata": {},
   "outputs": [
    {
     "data": {
      "text/html": [
       "<div>\n",
       "<style scoped>\n",
       "    .dataframe tbody tr th:only-of-type {\n",
       "        vertical-align: middle;\n",
       "    }\n",
       "\n",
       "    .dataframe tbody tr th {\n",
       "        vertical-align: top;\n",
       "    }\n",
       "\n",
       "    .dataframe thead th {\n",
       "        text-align: right;\n",
       "    }\n",
       "</style>\n",
       "<table border=\"1\" class=\"dataframe\">\n",
       "  <thead>\n",
       "    <tr style=\"text-align: right;\">\n",
       "      <th></th>\n",
       "      <th>m_acc</th>\n",
       "      <th>f_acc</th>\n",
       "      <th>diff</th>\n",
       "      <th>w_diff</th>\n",
       "      <th>abs_diff</th>\n",
       "      <th>w_abs_diff</th>\n",
       "    </tr>\n",
       "  </thead>\n",
       "  <tbody>\n",
       "    <tr>\n",
       "      <th>count</th>\n",
       "      <td>8.000000</td>\n",
       "      <td>8.000000</td>\n",
       "      <td>8.000000</td>\n",
       "      <td>8.000000</td>\n",
       "      <td>8.000000</td>\n",
       "      <td>8.000000</td>\n",
       "    </tr>\n",
       "    <tr>\n",
       "      <th>mean</th>\n",
       "      <td>0.431520</td>\n",
       "      <td>0.483859</td>\n",
       "      <td>-0.052339</td>\n",
       "      <td>-0.025321</td>\n",
       "      <td>0.071640</td>\n",
       "      <td>0.080407</td>\n",
       "    </tr>\n",
       "    <tr>\n",
       "      <th>std</th>\n",
       "      <td>0.146069</td>\n",
       "      <td>0.169129</td>\n",
       "      <td>0.095953</td>\n",
       "      <td>0.112977</td>\n",
       "      <td>0.080451</td>\n",
       "      <td>0.078151</td>\n",
       "    </tr>\n",
       "    <tr>\n",
       "      <th>min</th>\n",
       "      <td>0.208644</td>\n",
       "      <td>0.243577</td>\n",
       "      <td>-0.266586</td>\n",
       "      <td>-0.232247</td>\n",
       "      <td>0.020182</td>\n",
       "      <td>0.024826</td>\n",
       "    </tr>\n",
       "    <tr>\n",
       "      <th>25%</th>\n",
       "      <td>0.308693</td>\n",
       "      <td>0.364276</td>\n",
       "      <td>-0.061422</td>\n",
       "      <td>-0.049945</td>\n",
       "      <td>0.032456</td>\n",
       "      <td>0.031997</td>\n",
       "    </tr>\n",
       "    <tr>\n",
       "      <th>50%</th>\n",
       "      <td>0.449827</td>\n",
       "      <td>0.466897</td>\n",
       "      <td>-0.041163</td>\n",
       "      <td>-0.031674</td>\n",
       "      <td>0.049786</td>\n",
       "      <td>0.047059</td>\n",
       "    </tr>\n",
       "    <tr>\n",
       "      <th>75%</th>\n",
       "      <td>0.547364</td>\n",
       "      <td>0.638125</td>\n",
       "      <td>-0.008880</td>\n",
       "      <td>-0.007251</td>\n",
       "      <td>0.061422</td>\n",
       "      <td>0.084103</td>\n",
       "    </tr>\n",
       "    <tr>\n",
       "      <th>max</th>\n",
       "      <td>0.622126</td>\n",
       "      <td>0.695652</td>\n",
       "      <td>0.052178</td>\n",
       "      <td>0.174870</td>\n",
       "      <td>0.266586</td>\n",
       "      <td>0.232247</td>\n",
       "    </tr>\n",
       "  </tbody>\n",
       "</table>\n",
       "</div>"
      ],
      "text/plain": [
       "          m_acc     f_acc      diff    w_diff  abs_diff  w_abs_diff\n",
       "count  8.000000  8.000000  8.000000  8.000000  8.000000    8.000000\n",
       "mean   0.431520  0.483859 -0.052339 -0.025321  0.071640    0.080407\n",
       "std    0.146069  0.169129  0.095953  0.112977  0.080451    0.078151\n",
       "min    0.208644  0.243577 -0.266586 -0.232247  0.020182    0.024826\n",
       "25%    0.308693  0.364276 -0.061422 -0.049945  0.032456    0.031997\n",
       "50%    0.449827  0.466897 -0.041163 -0.031674  0.049786    0.047059\n",
       "75%    0.547364  0.638125 -0.008880 -0.007251  0.061422    0.084103\n",
       "max    0.622126  0.695652  0.052178  0.174870  0.266586    0.232247"
      ]
     },
     "execution_count": 351,
     "metadata": {},
     "output_type": "execute_result"
    }
   ],
   "source": [
    "df_en_scrub.describe()"
   ]
  },
  {
   "cell_type": "code",
   "execution_count": null,
   "metadata": {},
   "outputs": [],
   "source": [
    "model_f = 'es2en' #pred-scrub-endeb-F-es2endeb-dp0.25-lr0.01-eps20-wde-5-T-es2endeb\n",
    "pred_f = '-T-es2en'\n",
    "LAN = 'ES'\n",
    "# prediction_es = load_prediction(False, model_f, pred_f, ES_CACHE_DIR)\n",
    "# res_es = get_res(prediction_es, es_test_scrub, es_titles_test)\n",
    "# df_es_no_scrub = plot_acc_by_occ(res_es, '{}-{}{}-scrubbed'.format(LAN, model_f, pred_f))\n",
    "# print('----\\n------')\n",
    "prediction_es = load_prediction(True, model_f, pred_f, os.path.join(ES_CACHE_DIR, ''))\n",
    "res_es = get_res(prediction_es, es_test_scrub, es_titles_test)\n",
    "df_es_scrub = plot_acc_by_occ(res_es, '{}-{}{}-scrubbed'.format(LAN, model_f, pred_f), es_test_ratio)"
   ]
  },
  {
   "cell_type": "code",
   "execution_count": 155,
   "metadata": {},
   "outputs": [],
   "source": [
    "# df_es_scrub"
   ]
  },
  {
   "cell_type": "code",
   "execution_count": 156,
   "metadata": {},
   "outputs": [
    {
     "data": {
      "text/html": [
       "<div>\n",
       "<style scoped>\n",
       "    .dataframe tbody tr th:only-of-type {\n",
       "        vertical-align: middle;\n",
       "    }\n",
       "\n",
       "    .dataframe tbody tr th {\n",
       "        vertical-align: top;\n",
       "    }\n",
       "\n",
       "    .dataframe thead th {\n",
       "        text-align: right;\n",
       "    }\n",
       "</style>\n",
       "<table border=\"1\" class=\"dataframe\">\n",
       "  <thead>\n",
       "    <tr style=\"text-align: right;\">\n",
       "      <th></th>\n",
       "      <th>m_acc</th>\n",
       "      <th>f_acc</th>\n",
       "      <th>diff</th>\n",
       "      <th>w_diff</th>\n",
       "      <th>abs_diff</th>\n",
       "      <th>w_abs_diff</th>\n",
       "    </tr>\n",
       "  </thead>\n",
       "  <tbody>\n",
       "    <tr>\n",
       "      <th>count</th>\n",
       "      <td>8.000000</td>\n",
       "      <td>8.000000</td>\n",
       "      <td>8.000000</td>\n",
       "      <td>8.000000</td>\n",
       "      <td>8.000000</td>\n",
       "      <td>8.000000</td>\n",
       "    </tr>\n",
       "    <tr>\n",
       "      <th>mean</th>\n",
       "      <td>0.385236</td>\n",
       "      <td>0.397554</td>\n",
       "      <td>-0.012318</td>\n",
       "      <td>-0.020526</td>\n",
       "      <td>0.028250</td>\n",
       "      <td>0.037302</td>\n",
       "    </tr>\n",
       "    <tr>\n",
       "      <th>std</th>\n",
       "      <td>0.185886</td>\n",
       "      <td>0.173747</td>\n",
       "      <td>0.035956</td>\n",
       "      <td>0.053390</td>\n",
       "      <td>0.023541</td>\n",
       "      <td>0.041734</td>\n",
       "    </tr>\n",
       "    <tr>\n",
       "      <th>min</th>\n",
       "      <td>0.180288</td>\n",
       "      <td>0.198675</td>\n",
       "      <td>-0.075267</td>\n",
       "      <td>-0.134535</td>\n",
       "      <td>0.006464</td>\n",
       "      <td>0.003947</td>\n",
       "    </tr>\n",
       "    <tr>\n",
       "      <th>25%</th>\n",
       "      <td>0.233267</td>\n",
       "      <td>0.250490</td>\n",
       "      <td>-0.038121</td>\n",
       "      <td>-0.037308</td>\n",
       "      <td>0.009092</td>\n",
       "      <td>0.013372</td>\n",
       "    </tr>\n",
       "    <tr>\n",
       "      <th>50%</th>\n",
       "      <td>0.348851</td>\n",
       "      <td>0.362007</td>\n",
       "      <td>-0.001277</td>\n",
       "      <td>-0.006854</td>\n",
       "      <td>0.024074</td>\n",
       "      <td>0.026355</td>\n",
       "    </tr>\n",
       "    <tr>\n",
       "      <th>75%</th>\n",
       "      <td>0.524003</td>\n",
       "      <td>0.543509</td>\n",
       "      <td>0.010444</td>\n",
       "      <td>0.012512</td>\n",
       "      <td>0.038121</td>\n",
       "      <td>0.038973</td>\n",
       "    </tr>\n",
       "    <tr>\n",
       "      <th>max</th>\n",
       "      <td>0.642667</td>\n",
       "      <td>0.651685</td>\n",
       "      <td>0.033723</td>\n",
       "      <td>0.037275</td>\n",
       "      <td>0.075267</td>\n",
       "      <td>0.134535</td>\n",
       "    </tr>\n",
       "  </tbody>\n",
       "</table>\n",
       "</div>"
      ],
      "text/plain": [
       "          m_acc     f_acc      diff    w_diff  abs_diff  w_abs_diff\n",
       "count  8.000000  8.000000  8.000000  8.000000  8.000000    8.000000\n",
       "mean   0.385236  0.397554 -0.012318 -0.020526  0.028250    0.037302\n",
       "std    0.185886  0.173747  0.035956  0.053390  0.023541    0.041734\n",
       "min    0.180288  0.198675 -0.075267 -0.134535  0.006464    0.003947\n",
       "25%    0.233267  0.250490 -0.038121 -0.037308  0.009092    0.013372\n",
       "50%    0.348851  0.362007 -0.001277 -0.006854  0.024074    0.026355\n",
       "75%    0.524003  0.543509  0.010444  0.012512  0.038121    0.038973\n",
       "max    0.642667  0.651685  0.033723  0.037275  0.075267    0.134535"
      ]
     },
     "execution_count": 156,
     "metadata": {},
     "output_type": "execute_result"
    }
   ],
   "source": [
    "df_es_scrub[(df_es_scrub['m_acc'] > 0.02) & (df_es_scrub['f_acc'] > 0.02)].describe()"
   ]
  },
  {
   "cell_type": "code",
   "execution_count": null,
   "metadata": {},
   "outputs": [],
   "source": []
  },
  {
   "cell_type": "code",
   "execution_count": 82,
   "metadata": {},
   "outputs": [
    {
     "name": "stdout",
     "output_type": "stream",
     "text": [
      "1259 male instances; 585 female instances\n",
      "male acc: 0.8030182684670373\n",
      "female acc: 0.7931623931623931\n",
      "diff acc: 0.009855875304644157\n",
      "overall acc 0.7998915401301518\n"
     ]
    },
    {
     "data": {
      "image/png": "[encoded data removed]",
      "text/plain": [
       "<Figure size 432x288 with 1 Axes>"
      ]
     },
     "metadata": {
      "needs_background": "light"
     },
     "output_type": "display_data"
    }
   ],
   "source": [
    "model_f = 'fr'  #en ; es-F-en2es\n",
    "pred_f = '-T-fr'     #-T-en\n",
    "LAN = 'FR'\n",
    "# prediction_en = load_prediction(False, model_f, pred_f, EN_CACHE_DIR)\n",
    "# res_en = get_res(prediction_en, en_test_scrub, en_titles_test)\n",
    "# df_en_no_scrub = plot_acc_by_occ(res_en, '{}-{}{}-scrubbed'.format(LAN, model_f, pred_f))\n",
    "# print('---')\n",
    "prediction_fr = load_prediction(True, model_f, pred_f, os.path.join(FR_CACHE_DIR, 'bertModels'))\n",
    "res_fr = get_res(prediction_fr, fr_test_scrub, fr_titles_test)\n",
    "df_fr_scrub = plot_acc_by_occ(res_fr, '{}-{}{}-scrubbed'.format(LAN, model_f, pred_f), fr_test_ratio)"
   ]
  },
  {
   "cell_type": "code",
   "execution_count": 83,
   "metadata": {},
   "outputs": [
    {
     "data": {
      "text/html": [
       "<div>\n",
       "<style scoped>\n",
       "    .dataframe tbody tr th:only-of-type {\n",
       "        vertical-align: middle;\n",
       "    }\n",
       "\n",
       "    .dataframe tbody tr th {\n",
       "        vertical-align: top;\n",
       "    }\n",
       "\n",
       "    .dataframe thead th {\n",
       "        text-align: right;\n",
       "    }\n",
       "</style>\n",
       "<table border=\"1\" class=\"dataframe\">\n",
       "  <thead>\n",
       "    <tr style=\"text-align: right;\">\n",
       "      <th></th>\n",
       "      <th>m_acc</th>\n",
       "      <th>f_acc</th>\n",
       "      <th>diff</th>\n",
       "      <th>w_diff</th>\n",
       "      <th>abs_diff</th>\n",
       "      <th>w_abs_diff</th>\n",
       "    </tr>\n",
       "  </thead>\n",
       "  <tbody>\n",
       "    <tr>\n",
       "      <th>count</th>\n",
       "      <td>7.000000</td>\n",
       "      <td>7.000000</td>\n",
       "      <td>7.000000</td>\n",
       "      <td>7.000000</td>\n",
       "      <td>7.000000</td>\n",
       "      <td>7.000000</td>\n",
       "    </tr>\n",
       "    <tr>\n",
       "      <th>mean</th>\n",
       "      <td>0.760598</td>\n",
       "      <td>0.777797</td>\n",
       "      <td>-0.017199</td>\n",
       "      <td>-0.081576</td>\n",
       "      <td>0.082608</td>\n",
       "      <td>0.146366</td>\n",
       "    </tr>\n",
       "    <tr>\n",
       "      <th>std</th>\n",
       "      <td>0.133712</td>\n",
       "      <td>0.095809</td>\n",
       "      <td>0.120038</td>\n",
       "      <td>0.283831</td>\n",
       "      <td>0.082418</td>\n",
       "      <td>0.251655</td>\n",
       "    </tr>\n",
       "    <tr>\n",
       "      <th>min</th>\n",
       "      <td>0.487179</td>\n",
       "      <td>0.653465</td>\n",
       "      <td>-0.198535</td>\n",
       "      <td>-0.706753</td>\n",
       "      <td>0.002206</td>\n",
       "      <td>0.002421</td>\n",
       "    </tr>\n",
       "    <tr>\n",
       "      <th>25%</th>\n",
       "      <td>0.743290</td>\n",
       "      <td>0.709524</td>\n",
       "      <td>-0.074292</td>\n",
       "      <td>-0.044312</td>\n",
       "      <td>0.007945</td>\n",
       "      <td>0.008746</td>\n",
       "    </tr>\n",
       "    <tr>\n",
       "      <th>50%</th>\n",
       "      <td>0.777778</td>\n",
       "      <td>0.763158</td>\n",
       "      <td>-0.002206</td>\n",
       "      <td>-0.002421</td>\n",
       "      <td>0.061510</td>\n",
       "      <td>0.082258</td>\n",
       "    </tr>\n",
       "    <tr>\n",
       "      <th>75%</th>\n",
       "      <td>0.840170</td>\n",
       "      <td>0.844995</td>\n",
       "      <td>0.034979</td>\n",
       "      <td>0.053810</td>\n",
       "      <td>0.150058</td>\n",
       "      <td>0.107819</td>\n",
       "    </tr>\n",
       "    <tr>\n",
       "      <th>max</th>\n",
       "      <td>0.892308</td>\n",
       "      <td>0.918919</td>\n",
       "      <td>0.158974</td>\n",
       "      <td>0.119144</td>\n",
       "      <td>0.198535</td>\n",
       "      <td>0.706753</td>\n",
       "    </tr>\n",
       "  </tbody>\n",
       "</table>\n",
       "</div>"
      ],
      "text/plain": [
       "          m_acc     f_acc      diff    w_diff  abs_diff  w_abs_diff\n",
       "count  7.000000  7.000000  7.000000  7.000000  7.000000    7.000000\n",
       "mean   0.760598  0.777797 -0.017199 -0.081576  0.082608    0.146366\n",
       "std    0.133712  0.095809  0.120038  0.283831  0.082418    0.251655\n",
       "min    0.487179  0.653465 -0.198535 -0.706753  0.002206    0.002421\n",
       "25%    0.743290  0.709524 -0.074292 -0.044312  0.007945    0.008746\n",
       "50%    0.777778  0.763158 -0.002206 -0.002421  0.061510    0.082258\n",
       "75%    0.840170  0.844995  0.034979  0.053810  0.150058    0.107819\n",
       "max    0.892308  0.918919  0.158974  0.119144  0.198535    0.706753"
      ]
     },
     "execution_count": 83,
     "metadata": {},
     "output_type": "execute_result"
    }
   ],
   "source": [
    "df_fr_scrub.describe()"
   ]
  },
  {
   "cell_type": "code",
   "execution_count": null,
   "metadata": {},
   "outputs": [],
   "source": []
  },
  {
   "cell_type": "code",
   "execution_count": 335,
   "metadata": {},
   "outputs": [
    {
     "name": "stdout",
     "output_type": "stream",
     "text": [
      "977 male instances; 357 female instances\n",
      "male acc: 0.3623336745138178\n",
      "female acc: 0.35014005602240894\n",
      "diff acc: 0.012193618491408875\n",
      "overall acc 0.35907046476761617\n"
     ]
    },
    {
     "data": {
      "image/png": "[encoded data removed]",
      "text/plain": [
       "<Figure size 432x288 with 1 Axes>"
      ]
     },
     "metadata": {
      "needs_background": "light"
     },
     "output_type": "display_data"
    }
   ],
   "source": [
    "model_f = 'en2de-F-de' #pred-scrub-endeb-F-es2endeb-dp0.25-lr0.01-eps20-wde-5-T-es2endeb\n",
    "pred_f = '-T-de'\n",
    "LAN = 'DE'\n",
    "# prediction_es = load_prediction(False, model_f, pred_f, ES_CACHE_DIR)\n",
    "# res_es = get_res(prediction_es, es_test_scrub, es_titles_test)\n",
    "# df_es_no_scrub = plot_acc_by_occ(res_es, '{}-{}{}-scrubbed'.format(LAN, model_f, pred_f))\n",
    "# print('----\\n------')\n",
    "prediction_de = load_prediction(True, model_f, pred_f, os.path.join(DE_CACHE_DIR, ''))\n",
    "res_de = get_res(prediction_de, de_test_scrub, de_titles_test)\n",
    "df_de_scrub = plot_acc_by_occ(res_de, '{}-{}{}-scrubbed'.format(LAN, model_f, pred_f), de_test_ratio)"
   ]
  },
  {
   "cell_type": "code",
   "execution_count": 336,
   "metadata": {},
   "outputs": [
    {
     "data": {
      "text/html": [
       "<div>\n",
       "<style scoped>\n",
       "    .dataframe tbody tr th:only-of-type {\n",
       "        vertical-align: middle;\n",
       "    }\n",
       "\n",
       "    .dataframe tbody tr th {\n",
       "        vertical-align: top;\n",
       "    }\n",
       "\n",
       "    .dataframe thead th {\n",
       "        text-align: right;\n",
       "    }\n",
       "</style>\n",
       "<table border=\"1\" class=\"dataframe\">\n",
       "  <thead>\n",
       "    <tr style=\"text-align: right;\">\n",
       "      <th></th>\n",
       "      <th>m_acc</th>\n",
       "      <th>f_acc</th>\n",
       "      <th>diff</th>\n",
       "      <th>w_diff</th>\n",
       "      <th>abs_diff</th>\n",
       "      <th>w_abs_diff</th>\n",
       "    </tr>\n",
       "  </thead>\n",
       "  <tbody>\n",
       "    <tr>\n",
       "      <th>count</th>\n",
       "      <td>8.000000</td>\n",
       "      <td>8.000000</td>\n",
       "      <td>8.000000</td>\n",
       "      <td>8.000000</td>\n",
       "      <td>8.000000</td>\n",
       "      <td>8.000000</td>\n",
       "    </tr>\n",
       "    <tr>\n",
       "      <th>mean</th>\n",
       "      <td>0.284018</td>\n",
       "      <td>0.332516</td>\n",
       "      <td>-0.048498</td>\n",
       "      <td>-0.355263</td>\n",
       "      <td>0.072692</td>\n",
       "      <td>0.363081</td>\n",
       "    </tr>\n",
       "    <tr>\n",
       "      <th>std</th>\n",
       "      <td>0.143171</td>\n",
       "      <td>0.194257</td>\n",
       "      <td>0.108053</td>\n",
       "      <td>0.873490</td>\n",
       "      <td>0.091240</td>\n",
       "      <td>0.869809</td>\n",
       "    </tr>\n",
       "    <tr>\n",
       "      <th>min</th>\n",
       "      <td>0.096774</td>\n",
       "      <td>0.000000</td>\n",
       "      <td>-0.286169</td>\n",
       "      <td>-2.511505</td>\n",
       "      <td>0.007854</td>\n",
       "      <td>0.013454</td>\n",
       "    </tr>\n",
       "    <tr>\n",
       "      <th>25%</th>\n",
       "      <td>0.193461</td>\n",
       "      <td>0.220403</td>\n",
       "      <td>-0.052673</td>\n",
       "      <td>-0.109738</td>\n",
       "      <td>0.017666</td>\n",
       "      <td>0.023785</td>\n",
       "    </tr>\n",
       "    <tr>\n",
       "      <th>50%</th>\n",
       "      <td>0.243844</td>\n",
       "      <td>0.319079</td>\n",
       "      <td>-0.030190</td>\n",
       "      <td>-0.031028</td>\n",
       "      <td>0.044548</td>\n",
       "      <td>0.034346</td>\n",
       "    </tr>\n",
       "    <tr>\n",
       "      <th>75%</th>\n",
       "      <td>0.370301</td>\n",
       "      <td>0.504148</td>\n",
       "      <td>-0.012856</td>\n",
       "      <td>-0.019284</td>\n",
       "      <td>0.075495</td>\n",
       "      <td>0.109738</td>\n",
       "    </tr>\n",
       "    <tr>\n",
       "      <th>max</th>\n",
       "      <td>0.496815</td>\n",
       "      <td>0.565217</td>\n",
       "      <td>0.096774</td>\n",
       "      <td>0.031273</td>\n",
       "      <td>0.286169</td>\n",
       "      <td>2.511505</td>\n",
       "    </tr>\n",
       "  </tbody>\n",
       "</table>\n",
       "</div>"
      ],
      "text/plain": [
       "          m_acc     f_acc      diff    w_diff  abs_diff  w_abs_diff\n",
       "count  8.000000  8.000000  8.000000  8.000000  8.000000    8.000000\n",
       "mean   0.284018  0.332516 -0.048498 -0.355263  0.072692    0.363081\n",
       "std    0.143171  0.194257  0.108053  0.873490  0.091240    0.869809\n",
       "min    0.096774  0.000000 -0.286169 -2.511505  0.007854    0.013454\n",
       "25%    0.193461  0.220403 -0.052673 -0.109738  0.017666    0.023785\n",
       "50%    0.243844  0.319079 -0.030190 -0.031028  0.044548    0.034346\n",
       "75%    0.370301  0.504148 -0.012856 -0.019284  0.075495    0.109738\n",
       "max    0.496815  0.565217  0.096774  0.031273  0.286169    2.511505"
      ]
     },
     "execution_count": 336,
     "metadata": {},
     "output_type": "execute_result"
    }
   ],
   "source": [
    "df_de_scrub.describe()"
   ]
  },
  {
   "cell_type": "markdown",
   "metadata": {},
   "source": [
    "### df_fr_scrub[(df_fr_scrub['m_acc'] + df_fr_scrub['f_acc'])>1/7].describe()"
   ]
  },
  {
   "cell_type": "code",
   "execution_count": null,
   "metadata": {},
   "outputs": [],
   "source": []
  },
  {
   "cell_type": "code",
   "execution_count": null,
   "metadata": {},
   "outputs": [],
   "source": []
  },
  {
   "cell_type": "code",
   "execution_count": 54,
   "metadata": {},
   "outputs": [
    {
     "name": "stdout",
     "output_type": "stream",
     "text": [
      "3083 male instances; 1246 female instances\n",
      "male acc: 0.5465455724943237\n",
      "female acc: 0.5593900481540931\n",
      "diff acc: -0.012844475659769428\n",
      "overall acc 0.5502425502425502\n"
     ]
    }
   ],
   "source": [
    "prediction_es = load_prediction(False, 'es', '-T-es', ES_CACHE_DIR)\n",
    "res_es = get_res(prediction_es)"
   ]
  },
  {
   "cell_type": "code",
   "execution_count": 55,
   "metadata": {},
   "outputs": [
    {
     "name": "stdout",
     "output_type": "stream",
     "text": [
      "3083 male instances; 1246 female instances\n",
      "male acc: 0.5556276354200455\n",
      "female acc: 0.5754414125200642\n",
      "diff acc: -0.019813777100018748\n",
      "overall acc 0.5613305613305614\n"
     ]
    }
   ],
   "source": [
    "prediction_es_ali = load_prediction(False, 'es2en', '-T-es2en', ES_CACHE_DIR)\n",
    "res_es_align = get_res(prediction_es_ali)"
   ]
  },
  {
   "cell_type": "code",
   "execution_count": 56,
   "metadata": {},
   "outputs": [
    {
     "name": "stdout",
     "output_type": "stream",
     "text": [
      "3083 male instances; 1246 female instances\n",
      "male acc: 0.5445994161530976\n",
      "female acc: 0.5593900481540931\n",
      "diff acc: -0.014790632000995507\n",
      "overall acc 0.5488565488565489\n"
     ]
    }
   ],
   "source": [
    "prediction_es_endeb = load_prediction(False, 'es2endeb', '-T-es2endeb', ES_CACHE_DIR)\n",
    "res_es_endeb = get_res(prediction_es_endeb)"
   ]
  },
  {
   "cell_type": "code",
   "execution_count": 57,
   "metadata": {},
   "outputs": [
    {
     "data": {
      "image/png": "[encoded data removed]",
      "text/plain": [
       "<Figure size 432x288 with 1 Axes>"
      ]
     },
     "metadata": {
      "needs_background": "light"
     },
     "output_type": "display_data"
    },
    {
     "data": {
      "image/png": "[encoded data removed]",
      "text/plain": [
       "<Figure size 432x288 with 1 Axes>"
      ]
     },
     "metadata": {
      "needs_background": "light"
     },
     "output_type": "display_data"
    },
    {
     "data": {
      "image/png": "[encoded data removed]",
      "text/plain": [
       "<Figure size 432x288 with 1 Axes>"
      ]
     },
     "metadata": {
      "needs_background": "light"
     },
     "output_type": "display_data"
    }
   ],
   "source": [
    "df_ori_es = plot_acc_by_occ(res_es, 'ES using ori-es')\n",
    "df_es_ali = plot_acc_by_occ(res_es_align, 'ES using es-aligned')\n",
    "df_es_endeb = plot_acc_by_occ(res_es_endeb, 'ES using es-endeb')"
   ]
  },
  {
   "cell_type": "code",
   "execution_count": 58,
   "metadata": {},
   "outputs": [],
   "source": [
    "df_diff = df_ori_es[['diff']].copy()\n",
    "df_diff['ali_diff'] = df_es_ali[['diff']].copy()\n",
    "df_diff['endeb_diff'] = df_es_endeb[['diff']].copy()"
   ]
  },
  {
   "cell_type": "code",
   "execution_count": 59,
   "metadata": {},
   "outputs": [
    {
     "data": {
      "text/html": [
       "<div>\n",
       "<style scoped>\n",
       "    .dataframe tbody tr th:only-of-type {\n",
       "        vertical-align: middle;\n",
       "    }\n",
       "\n",
       "    .dataframe tbody tr th {\n",
       "        vertical-align: top;\n",
       "    }\n",
       "\n",
       "    .dataframe thead th {\n",
       "        text-align: right;\n",
       "    }\n",
       "</style>\n",
       "<table border=\"1\" class=\"dataframe\">\n",
       "  <thead>\n",
       "    <tr style=\"text-align: right;\">\n",
       "      <th></th>\n",
       "      <th>diff</th>\n",
       "      <th>ali_diff</th>\n",
       "      <th>endeb_diff</th>\n",
       "    </tr>\n",
       "  </thead>\n",
       "  <tbody>\n",
       "    <tr>\n",
       "      <th>professor</th>\n",
       "      <td>-0.128036</td>\n",
       "      <td>-0.153065</td>\n",
       "      <td>-0.132058</td>\n",
       "    </tr>\n",
       "    <tr>\n",
       "      <th>journalist</th>\n",
       "      <td>0.053051</td>\n",
       "      <td>0.029690</td>\n",
       "      <td>0.046892</td>\n",
       "    </tr>\n",
       "    <tr>\n",
       "      <th>teacher</th>\n",
       "      <td>0.087560</td>\n",
       "      <td>0.057747</td>\n",
       "      <td>0.059232</td>\n",
       "    </tr>\n",
       "    <tr>\n",
       "      <th>painter</th>\n",
       "      <td>-0.030729</td>\n",
       "      <td>-0.030208</td>\n",
       "      <td>-0.024479</td>\n",
       "    </tr>\n",
       "    <tr>\n",
       "      <th>model</th>\n",
       "      <td>-0.123265</td>\n",
       "      <td>-0.093920</td>\n",
       "      <td>-0.093004</td>\n",
       "    </tr>\n",
       "    <tr>\n",
       "      <th>surgeon</th>\n",
       "      <td>0.304792</td>\n",
       "      <td>0.184603</td>\n",
       "      <td>0.229379</td>\n",
       "    </tr>\n",
       "    <tr>\n",
       "      <th>poet</th>\n",
       "      <td>-0.057558</td>\n",
       "      <td>-0.085586</td>\n",
       "      <td>-0.106607</td>\n",
       "    </tr>\n",
       "    <tr>\n",
       "      <th>architect</th>\n",
       "      <td>0.076557</td>\n",
       "      <td>0.061722</td>\n",
       "      <td>0.014469</td>\n",
       "    </tr>\n",
       "    <tr>\n",
       "      <th>nurse</th>\n",
       "      <td>-0.348333</td>\n",
       "      <td>-0.300000</td>\n",
       "      <td>-0.098333</td>\n",
       "    </tr>\n",
       "    <tr>\n",
       "      <th>psychologist</th>\n",
       "      <td>0.044732</td>\n",
       "      <td>0.075260</td>\n",
       "      <td>0.150307</td>\n",
       "    </tr>\n",
       "  </tbody>\n",
       "</table>\n",
       "</div>"
      ],
      "text/plain": [
       "                  diff  ali_diff  endeb_diff\n",
       "professor    -0.128036 -0.153065   -0.132058\n",
       "journalist    0.053051  0.029690    0.046892\n",
       "teacher       0.087560  0.057747    0.059232\n",
       "painter      -0.030729 -0.030208   -0.024479\n",
       "model        -0.123265 -0.093920   -0.093004\n",
       "surgeon       0.304792  0.184603    0.229379\n",
       "poet         -0.057558 -0.085586   -0.106607\n",
       "architect     0.076557  0.061722    0.014469\n",
       "nurse        -0.348333 -0.300000   -0.098333\n",
       "psychologist  0.044732  0.075260    0.150307"
      ]
     },
     "execution_count": 59,
     "metadata": {},
     "output_type": "execute_result"
    }
   ],
   "source": [
    "df_diff"
   ]
  },
  {
   "cell_type": "code",
   "execution_count": 60,
   "metadata": {},
   "outputs": [
    {
     "data": {
      "image/png": "[encoded data removed]",
      "text/plain": [
       "<Figure size 432x288 with 1 Axes>"
      ]
     },
     "metadata": {
      "needs_background": "light"
     },
     "output_type": "display_data"
    }
   ],
   "source": [
    "df_diff[['diff', 'ali_diff', 'endeb_diff']].plot(kind='bar')\n",
    "plt.show()"
   ]
  },
  {
   "cell_type": "code",
   "execution_count": 306,
   "metadata": {},
   "outputs": [
    {
     "data": {
      "text/html": [
       "<div>\n",
       "<style scoped>\n",
       "    .dataframe tbody tr th:only-of-type {\n",
       "        vertical-align: middle;\n",
       "    }\n",
       "\n",
       "    .dataframe tbody tr th {\n",
       "        vertical-align: top;\n",
       "    }\n",
       "\n",
       "    .dataframe thead th {\n",
       "        text-align: right;\n",
       "    }\n",
       "</style>\n",
       "<table border=\"1\" class=\"dataframe\">\n",
       "  <thead>\n",
       "    <tr style=\"text-align: right;\">\n",
       "      <th></th>\n",
       "      <th>diff</th>\n",
       "      <th>ali_diff</th>\n",
       "      <th>endeb_diff</th>\n",
       "    </tr>\n",
       "  </thead>\n",
       "  <tbody>\n",
       "    <tr>\n",
       "      <th>count</th>\n",
       "      <td>12.000000</td>\n",
       "      <td>12.000000</td>\n",
       "      <td>12.000000</td>\n",
       "    </tr>\n",
       "    <tr>\n",
       "      <th>mean</th>\n",
       "      <td>-0.075967</td>\n",
       "      <td>-0.015657</td>\n",
       "      <td>-0.037400</td>\n",
       "    </tr>\n",
       "    <tr>\n",
       "      <th>std</th>\n",
       "      <td>0.258942</td>\n",
       "      <td>0.251251</td>\n",
       "      <td>0.278575</td>\n",
       "    </tr>\n",
       "    <tr>\n",
       "      <th>min</th>\n",
       "      <td>-0.750000</td>\n",
       "      <td>-0.666667</td>\n",
       "      <td>-0.666667</td>\n",
       "    </tr>\n",
       "    <tr>\n",
       "      <th>25%</th>\n",
       "      <td>-0.085577</td>\n",
       "      <td>-0.063225</td>\n",
       "      <td>-0.129225</td>\n",
       "    </tr>\n",
       "    <tr>\n",
       "      <th>50%</th>\n",
       "      <td>0.013373</td>\n",
       "      <td>0.011200</td>\n",
       "      <td>0.028588</td>\n",
       "    </tr>\n",
       "    <tr>\n",
       "      <th>75%</th>\n",
       "      <td>0.050160</td>\n",
       "      <td>0.117869</td>\n",
       "      <td>0.077725</td>\n",
       "    </tr>\n",
       "    <tr>\n",
       "      <th>max</th>\n",
       "      <td>0.137195</td>\n",
       "      <td>0.314024</td>\n",
       "      <td>0.335366</td>\n",
       "    </tr>\n",
       "  </tbody>\n",
       "</table>\n",
       "</div>"
      ],
      "text/plain": [
       "            diff   ali_diff  endeb_diff\n",
       "count  12.000000  12.000000   12.000000\n",
       "mean   -0.075967  -0.015657   -0.037400\n",
       "std     0.258942   0.251251    0.278575\n",
       "min    -0.750000  -0.666667   -0.666667\n",
       "25%    -0.085577  -0.063225   -0.129225\n",
       "50%     0.013373   0.011200    0.028588\n",
       "75%     0.050160   0.117869    0.077725\n",
       "max     0.137195   0.314024    0.335366"
      ]
     },
     "execution_count": 306,
     "metadata": {},
     "output_type": "execute_result"
    }
   ],
   "source": [
    "df_diff.describe()"
   ]
  },
  {
   "cell_type": "code",
   "execution_count": null,
   "metadata": {},
   "outputs": [],
   "source": []
  },
  {
   "cell_type": "code",
   "execution_count": 287,
   "metadata": {},
   "outputs": [
    {
     "data": {
      "text/html": [
       "<div>\n",
       "<style scoped>\n",
       "    .dataframe tbody tr th:only-of-type {\n",
       "        vertical-align: middle;\n",
       "    }\n",
       "\n",
       "    .dataframe tbody tr th {\n",
       "        vertical-align: top;\n",
       "    }\n",
       "\n",
       "    .dataframe thead th {\n",
       "        text-align: right;\n",
       "    }\n",
       "</style>\n",
       "<table border=\"1\" class=\"dataframe\">\n",
       "  <thead>\n",
       "    <tr style=\"text-align: right;\">\n",
       "      <th></th>\n",
       "      <th>diff</th>\n",
       "      <th>ali_diff</th>\n",
       "      <th>endeb_diff</th>\n",
       "    </tr>\n",
       "  </thead>\n",
       "  <tbody>\n",
       "    <tr>\n",
       "      <th>accountant</th>\n",
       "      <td>0.137195</td>\n",
       "      <td>0.314024</td>\n",
       "      <td>0.335366</td>\n",
       "    </tr>\n",
       "    <tr>\n",
       "      <th>journalist</th>\n",
       "      <td>0.021420</td>\n",
       "      <td>0.024403</td>\n",
       "      <td>0.026213</td>\n",
       "    </tr>\n",
       "    <tr>\n",
       "      <th>architect</th>\n",
       "      <td>0.003519</td>\n",
       "      <td>0.111893</td>\n",
       "      <td>0.030964</td>\n",
       "    </tr>\n",
       "    <tr>\n",
       "      <th>professor</th>\n",
       "      <td>0.005326</td>\n",
       "      <td>-0.049033</td>\n",
       "      <td>0.064075</td>\n",
       "    </tr>\n",
       "    <tr>\n",
       "      <th>teacher</th>\n",
       "      <td>0.126506</td>\n",
       "      <td>0.135797</td>\n",
       "      <td>0.118673</td>\n",
       "    </tr>\n",
       "    <tr>\n",
       "      <th>surgeon</th>\n",
       "      <td>0.031716</td>\n",
       "      <td>0.222015</td>\n",
       "      <td>0.287313</td>\n",
       "    </tr>\n",
       "  </tbody>\n",
       "</table>\n",
       "</div>"
      ],
      "text/plain": [
       "                diff  ali_diff  endeb_diff\n",
       "accountant  0.137195  0.314024    0.335366\n",
       "journalist  0.021420  0.024403    0.026213\n",
       "architect   0.003519  0.111893    0.030964\n",
       "professor   0.005326 -0.049033    0.064075\n",
       "teacher     0.126506  0.135797    0.118673\n",
       "surgeon     0.031716  0.222015    0.287313"
      ]
     },
     "execution_count": 287,
     "metadata": {},
     "output_type": "execute_result"
    }
   ],
   "source": [
    "df_diff[abs(df_diff['ali_diff']) > abs(df_diff['diff'])]"
   ]
  },
  {
   "cell_type": "code",
   "execution_count": 288,
   "metadata": {},
   "outputs": [
    {
     "data": {
      "text/html": [
       "<div>\n",
       "<style scoped>\n",
       "    .dataframe tbody tr th:only-of-type {\n",
       "        vertical-align: middle;\n",
       "    }\n",
       "\n",
       "    .dataframe tbody tr th {\n",
       "        vertical-align: top;\n",
       "    }\n",
       "\n",
       "    .dataframe thead th {\n",
       "        text-align: right;\n",
       "    }\n",
       "</style>\n",
       "<table border=\"1\" class=\"dataframe\">\n",
       "  <thead>\n",
       "    <tr style=\"text-align: right;\">\n",
       "      <th></th>\n",
       "      <th>diff</th>\n",
       "      <th>ali_diff</th>\n",
       "      <th>endeb_diff</th>\n",
       "    </tr>\n",
       "  </thead>\n",
       "  <tbody>\n",
       "    <tr>\n",
       "      <th>accountant</th>\n",
       "      <td>0.137195</td>\n",
       "      <td>0.314024</td>\n",
       "      <td>0.335366</td>\n",
       "    </tr>\n",
       "    <tr>\n",
       "      <th>journalist</th>\n",
       "      <td>0.021420</td>\n",
       "      <td>0.024403</td>\n",
       "      <td>0.026213</td>\n",
       "    </tr>\n",
       "    <tr>\n",
       "      <th>architect</th>\n",
       "      <td>0.003519</td>\n",
       "      <td>0.111893</td>\n",
       "      <td>0.030964</td>\n",
       "    </tr>\n",
       "    <tr>\n",
       "      <th>professor</th>\n",
       "      <td>0.005326</td>\n",
       "      <td>-0.049033</td>\n",
       "      <td>0.064075</td>\n",
       "    </tr>\n",
       "    <tr>\n",
       "      <th>model</th>\n",
       "      <td>-0.072065</td>\n",
       "      <td>-0.051522</td>\n",
       "      <td>-0.125633</td>\n",
       "    </tr>\n",
       "    <tr>\n",
       "      <th>poet</th>\n",
       "      <td>-0.126111</td>\n",
       "      <td>-0.098333</td>\n",
       "      <td>-0.140000</td>\n",
       "    </tr>\n",
       "    <tr>\n",
       "      <th>surgeon</th>\n",
       "      <td>0.031716</td>\n",
       "      <td>0.222015</td>\n",
       "      <td>0.287313</td>\n",
       "    </tr>\n",
       "  </tbody>\n",
       "</table>\n",
       "</div>"
      ],
      "text/plain": [
       "                diff  ali_diff  endeb_diff\n",
       "accountant  0.137195  0.314024    0.335366\n",
       "journalist  0.021420  0.024403    0.026213\n",
       "architect   0.003519  0.111893    0.030964\n",
       "professor   0.005326 -0.049033    0.064075\n",
       "model      -0.072065 -0.051522   -0.125633\n",
       "poet       -0.126111 -0.098333   -0.140000\n",
       "surgeon     0.031716  0.222015    0.287313"
      ]
     },
     "execution_count": 288,
     "metadata": {},
     "output_type": "execute_result"
    }
   ],
   "source": [
    "df_diff[abs(df_diff['endeb_diff']) > abs(df_diff['diff'])]"
   ]
  },
  {
   "cell_type": "code",
   "execution_count": null,
   "metadata": {},
   "outputs": [],
   "source": []
  },
  {
   "cell_type": "markdown",
   "metadata": {},
   "source": [
    "### Transfer from EN to ES"
   ]
  },
  {
   "cell_type": "markdown",
   "metadata": {},
   "source": [
    "- **Trained on original EN**"
   ]
  },
  {
   "cell_type": "code",
   "execution_count": 510,
   "metadata": {},
   "outputs": [
    {
     "name": "stdout",
     "output_type": "stream",
     "text": [
      "Loading bios_split_filtered.pkl\n",
      "Bios: 3265, 1094, 1093\n",
      "Loading bios_split_filtered.pkl\n",
      "Bios: 3265, 1094, 1093\n",
      "Titles: 3265, 1094, 1093\n"
     ]
    }
   ],
   "source": [
    "filtered='_filtered'\n",
    "es_train_scrub, es_val_scrub, es_test_scrub = load_bios_raw(ES_CACHE_DIR, filtered)\n",
    "es_train_noscrub, es_val_noscrub, es_test_noscrub = load_bios_raw(ES_CACHE_DIR, filtered)\n",
    "es_titles_train, es_titles_val, es_titles_test = load_titles(ES_CACHE_DIR, filtered)"
   ]
  },
  {
   "cell_type": "code",
   "execution_count": 521,
   "metadata": {},
   "outputs": [],
   "source": [
    "pred_T_es_endeb = load_prediction(True, 'en', '-T-es-endeb', ES_CACHE_DIR)\n",
    "pred_T_es_ali = load_prediction(True, 'en', '-T-es-en-align', ES_CACHE_DIR)"
   ]
  },
  {
   "cell_type": "code",
   "execution_count": 522,
   "metadata": {},
   "outputs": [
    {
     "name": "stdout",
     "output_type": "stream",
     "text": [
      "male acc: 0.22296395193591456\n",
      "female acc: 0.1744186046511628\n",
      "diff acc: 0.048545347284751766\n",
      "overall acc 0.20768526989935956\n",
      "-----\n",
      "male acc: 0.22296395193591456\n",
      "female acc: 0.1744186046511628\n",
      "diff acc: 0.048545347284751766\n",
      "overall acc 0.20768526989935956\n"
     ]
    }
   ],
   "source": [
    "res_es_endeb = get_res(pred_T_es_endeb)\n",
    "print('-----')\n",
    "res_es_ali = get_res(pred_T_es_ali)"
   ]
  },
  {
   "cell_type": "code",
   "execution_count": 528,
   "metadata": {},
   "outputs": [
    {
     "data": {
      "image/png": "[encoded data removed]",
      "text/plain": [
       "<Figure size 432x288 with 1 Axes>"
      ]
     },
     "metadata": {
      "needs_background": "light"
     },
     "output_type": "display_data"
    },
    {
     "data": {
      "image/png": "[encoded data removed]",
      "text/plain": [
       "<Figure size 432x288 with 1 Axes>"
      ]
     },
     "metadata": {
      "needs_background": "light"
     },
     "output_type": "display_data"
    }
   ],
   "source": [
    "df_es_endeb = plot_acc_by_occ(res_es_endeb, 'ES transferred by es-endeb')\n",
    "df_es_ali = plot_acc_by_occ(res_es_ali, 'ES transferred by es-aligned')"
   ]
  },
  {
   "cell_type": "code",
   "execution_count": null,
   "metadata": {},
   "outputs": [],
   "source": []
  },
  {
   "cell_type": "code",
   "execution_count": 231,
   "metadata": {},
   "outputs": [
    {
     "data": {
      "image/png": "[encoded data removed]",
      "text/plain": [
       "<Figure size 432x288 with 1 Axes>"
      ]
     },
     "metadata": {
      "needs_background": "light"
     },
     "output_type": "display_data"
    },
    {
     "data": {
      "text/html": [
       "<div>\n",
       "<style scoped>\n",
       "    .dataframe tbody tr th:only-of-type {\n",
       "        vertical-align: middle;\n",
       "    }\n",
       "\n",
       "    .dataframe tbody tr th {\n",
       "        vertical-align: top;\n",
       "    }\n",
       "\n",
       "    .dataframe thead th {\n",
       "        text-align: right;\n",
       "    }\n",
       "</style>\n",
       "<table border=\"1\" class=\"dataframe\">\n",
       "  <thead>\n",
       "    <tr style=\"text-align: right;\">\n",
       "      <th></th>\n",
       "      <th>diff</th>\n",
       "      <th>ali_diff</th>\n",
       "    </tr>\n",
       "  </thead>\n",
       "  <tbody>\n",
       "    <tr>\n",
       "      <th>count</th>\n",
       "      <td>12.000000</td>\n",
       "      <td>12.000000</td>\n",
       "    </tr>\n",
       "    <tr>\n",
       "      <th>mean</th>\n",
       "      <td>0.025982</td>\n",
       "      <td>0.025982</td>\n",
       "    </tr>\n",
       "    <tr>\n",
       "      <th>std</th>\n",
       "      <td>0.100957</td>\n",
       "      <td>0.100957</td>\n",
       "    </tr>\n",
       "    <tr>\n",
       "      <th>min</th>\n",
       "      <td>-0.051829</td>\n",
       "      <td>-0.051829</td>\n",
       "    </tr>\n",
       "    <tr>\n",
       "      <th>25%</th>\n",
       "      <td>-0.010706</td>\n",
       "      <td>-0.010706</td>\n",
       "    </tr>\n",
       "    <tr>\n",
       "      <th>50%</th>\n",
       "      <td>0.000713</td>\n",
       "      <td>0.000713</td>\n",
       "    </tr>\n",
       "    <tr>\n",
       "      <th>75%</th>\n",
       "      <td>0.020169</td>\n",
       "      <td>0.020169</td>\n",
       "    </tr>\n",
       "    <tr>\n",
       "      <th>max</th>\n",
       "      <td>0.333333</td>\n",
       "      <td>0.333333</td>\n",
       "    </tr>\n",
       "  </tbody>\n",
       "</table>\n",
       "</div>"
      ],
      "text/plain": [
       "            diff   ali_diff\n",
       "count  12.000000  12.000000\n",
       "mean    0.025982   0.025982\n",
       "std     0.100957   0.100957\n",
       "min    -0.051829  -0.051829\n",
       "25%    -0.010706  -0.010706\n",
       "50%     0.000713   0.000713\n",
       "75%     0.020169   0.020169\n",
       "max     0.333333   0.333333"
      ]
     },
     "execution_count": 231,
     "metadata": {},
     "output_type": "execute_result"
    }
   ],
   "source": [
    "df_diff = df_es_endeb[['diff']].copy()\n",
    "df_diff['ali_diff'] = df_es_ali[['diff']].copy()\n",
    "df_diff[['diff', 'ali_diff']].plot(kind='bar')\n",
    "plt.show()\n",
    "df_diff.describe()"
   ]
  },
  {
   "cell_type": "markdown",
   "metadata": {},
   "source": [
    "- **Trained on EN-debias**"
   ]
  },
  {
   "cell_type": "code",
   "execution_count": 524,
   "metadata": {},
   "outputs": [
    {
     "name": "stdout",
     "output_type": "stream",
     "text": [
      "male acc: 0.24966622162883845\n",
      "female acc: 0.22093023255813954\n",
      "diff acc: 0.02873598907069891\n",
      "overall acc 0.24062214089661482\n",
      "-----\n",
      "male acc: 0.24966622162883845\n",
      "female acc: 0.22093023255813954\n",
      "diff acc: 0.02873598907069891\n",
      "overall acc 0.24062214089661482\n"
     ]
    }
   ],
   "source": [
    "pred_T_es_endeb = load_prediction(True, 'endeb', '-T-es-endeb', ES_CACHE_DIR)\n",
    "pred_T_es_ali = load_prediction(True, 'endeb', '-T-es-en-align', ES_CACHE_DIR)\n",
    "res_es_endeb = get_res(pred_T_es_endeb)\n",
    "print('-----')\n",
    "res_es_ali = get_res(pred_T_es_ali)"
   ]
  },
  {
   "cell_type": "code",
   "execution_count": 525,
   "metadata": {},
   "outputs": [
    {
     "data": {
      "image/png": "[encoded data removed]",
      "text/plain": [
       "<Figure size 432x288 with 1 Axes>"
      ]
     },
     "metadata": {
      "needs_background": "light"
     },
     "output_type": "display_data"
    },
    {
     "data": {
      "image/png": "[encoded data removed]",
      "text/plain": [
       "<Figure size 432x288 with 1 Axes>"
      ]
     },
     "metadata": {
      "needs_background": "light"
     },
     "output_type": "display_data"
    },
    {
     "data": {
      "image/png": "[encoded data removed]",
      "text/plain": [
       "<Figure size 432x288 with 1 Axes>"
      ]
     },
     "metadata": {
      "needs_background": "light"
     },
     "output_type": "display_data"
    },
    {
     "data": {
      "text/html": [
       "<div>\n",
       "<style scoped>\n",
       "    .dataframe tbody tr th:only-of-type {\n",
       "        vertical-align: middle;\n",
       "    }\n",
       "\n",
       "    .dataframe tbody tr th {\n",
       "        vertical-align: top;\n",
       "    }\n",
       "\n",
       "    .dataframe thead th {\n",
       "        text-align: right;\n",
       "    }\n",
       "</style>\n",
       "<table border=\"1\" class=\"dataframe\">\n",
       "  <thead>\n",
       "    <tr style=\"text-align: right;\">\n",
       "      <th></th>\n",
       "      <th>diff</th>\n",
       "      <th>ali_diff</th>\n",
       "    </tr>\n",
       "  </thead>\n",
       "  <tbody>\n",
       "    <tr>\n",
       "      <th>count</th>\n",
       "      <td>12.000000</td>\n",
       "      <td>12.000000</td>\n",
       "    </tr>\n",
       "    <tr>\n",
       "      <th>mean</th>\n",
       "      <td>0.055258</td>\n",
       "      <td>0.055258</td>\n",
       "    </tr>\n",
       "    <tr>\n",
       "      <th>std</th>\n",
       "      <td>0.091400</td>\n",
       "      <td>0.091400</td>\n",
       "    </tr>\n",
       "    <tr>\n",
       "      <th>min</th>\n",
       "      <td>-0.037447</td>\n",
       "      <td>-0.037447</td>\n",
       "    </tr>\n",
       "    <tr>\n",
       "      <th>25%</th>\n",
       "      <td>0.000000</td>\n",
       "      <td>0.000000</td>\n",
       "    </tr>\n",
       "    <tr>\n",
       "      <th>50%</th>\n",
       "      <td>0.025000</td>\n",
       "      <td>0.025000</td>\n",
       "    </tr>\n",
       "    <tr>\n",
       "      <th>75%</th>\n",
       "      <td>0.090228</td>\n",
       "      <td>0.090228</td>\n",
       "    </tr>\n",
       "    <tr>\n",
       "      <th>max</th>\n",
       "      <td>0.250000</td>\n",
       "      <td>0.250000</td>\n",
       "    </tr>\n",
       "  </tbody>\n",
       "</table>\n",
       "</div>"
      ],
      "text/plain": [
       "            diff   ali_diff\n",
       "count  12.000000  12.000000\n",
       "mean    0.055258   0.055258\n",
       "std     0.091400   0.091400\n",
       "min    -0.037447  -0.037447\n",
       "25%     0.000000   0.000000\n",
       "50%     0.025000   0.025000\n",
       "75%     0.090228   0.090228\n",
       "max     0.250000   0.250000"
      ]
     },
     "execution_count": 525,
     "metadata": {},
     "output_type": "execute_result"
    }
   ],
   "source": [
    "df_es_endeb = plot_acc_by_occ(res_es_endeb, 'ES transferred using es-debias')\n",
    "df_es_ali = plot_acc_by_occ(res_es_ali, 'ES transferred using es-aligned')\n",
    "df_diff = df_es_endeb[['diff']].copy()\n",
    "df_diff['ali_diff'] = df_es_ali[['diff']].copy()\n",
    "df_diff[['diff', 'ali_diff']].plot(kind='bar')\n",
    "plt.show()\n",
    "df_diff.describe()"
   ]
  },
  {
   "cell_type": "code",
   "execution_count": null,
   "metadata": {},
   "outputs": [],
   "source": []
  },
  {
   "cell_type": "code",
   "execution_count": null,
   "metadata": {},
   "outputs": [],
   "source": []
  },
  {
   "cell_type": "code",
   "execution_count": null,
   "metadata": {},
   "outputs": [],
   "source": []
  },
  {
   "cell_type": "code",
   "execution_count": 473,
   "metadata": {},
   "outputs": [],
   "source": []
  },
  {
   "cell_type": "code",
   "execution_count": 475,
   "metadata": {},
   "outputs": [],
   "source": [
    "with open(os.path.join(ES_CACHE_DIR, 'bios_seq_scrubbed_filtered.pkl'), 'wb') as f:\n",
    "    pickle.dump((np.array(es_train_scrubbed_filtered),\\\n",
    "                 np.array(es_val_scrubbed_filtered), \\\n",
    "                 np.array(es_test_scrubbed_filtered)), f)\n",
    "with open(os.path.join(ES_CACHE_DIR, 'bios_seq_no_scrubbed_filtered.pkl'), 'wb') as f:\n",
    "    pickle.dump((np.array(es_train_no_scrubbed_filtered), \\\n",
    "                 np.array(es_val_no_scrubbed_filtered), \\\n",
    "                 np.array(es_test_no_scrubbed_filtered)), f)\n",
    "with open(os.path.join(ES_CACHE_DIR, 'titles_filtered.pkl'), 'wb') as f:\n",
    "    pickle.dump((np.array(es_titles_train_filtered), \\\n",
    "                 np.array(es_titles_val_filtered), \\\n",
    "                 np.array(es_titles_test_filtered)), f)   \n",
    "with open(os.path.join(ES_CACHE_DIR, 'bios_split_filtered.pkl'), 'wb') as f:\n",
    "    pickle.dump((np.array(es_train_raw_filtered), \\\n",
    "                 np.array(es_val_raw_filtered), \\\n",
    "                 np.array(es_test_raw_filtered)), f)"
   ]
  },
  {
   "cell_type": "code",
   "execution_count": null,
   "metadata": {},
   "outputs": [],
   "source": []
  },
  {
   "cell_type": "code",
   "execution_count": null,
   "metadata": {},
   "outputs": [],
   "source": []
  },
  {
   "cell_type": "code",
   "execution_count": null,
   "metadata": {},
   "outputs": [],
   "source": []
  },
  {
   "cell_type": "code",
   "execution_count": null,
   "metadata": {},
   "outputs": [],
   "source": []
  },
  {
   "cell_type": "markdown",
   "metadata": {},
   "source": [
    "### test"
   ]
  },
  {
   "cell_type": "code",
   "execution_count": 559,
   "metadata": {},
   "outputs": [],
   "source": [
    "debios = pkl.load(open('/local/jyzhao/Github/Gender_bias_in-Cross_Lingual_Transfer_Learning/BiosBias/DE/BIOS.pkl', 'rb'))"
   ]
  },
  {
   "cell_type": "code",
   "execution_count": 563,
   "metadata": {},
   "outputs": [
    {
     "data": {
      "text/plain": [
       "{'path': 'crawl-data/CC-MAIN-2017-26/segments/1498128320707.69/wet/CC-MAIN-20170626101322-20170626121322-00155.warc.wet.gz',\n",
       " 'raw': 'Knapen — Ben Knapen (* 1951) ist ein niederländischer Journalist. Er war von 1990 bis 1996 Chefredakteur der Tageszeitung NRC Handelsblad. Leben Von Haus aus Historiker arbeitete Knapen ab Beginn der achtziger Jahre für das NOS Journaal und das NRC… … Deutsch Wikipedia',\n",
       " 'name': ('Ben', '', 'Knapen'),\n",
       " 'raw_title': 'Journalist',\n",
       " 'gender': 'M',\n",
       " 'start_pos': 65,\n",
       " 'title': 'journalist',\n",
       " 'URI': 'http://de.academic.ru/dic.nsf/dewiki/154073'}"
      ]
     },
     "execution_count": 563,
     "metadata": {},
     "output_type": "execute_result"
    }
   ],
   "source": [
    "debios[900]"
   ]
  },
  {
   "cell_type": "code",
   "execution_count": null,
   "metadata": {},
   "outputs": [],
   "source": []
  },
  {
   "cell_type": "markdown",
   "metadata": {},
   "source": [
    "----"
   ]
  },
  {
   "cell_type": "code",
   "execution_count": 55,
   "metadata": {},
   "outputs": [],
   "source": [
    "import json\n",
    "es_titles = json.load(open('freq_titles_es.json'))\n",
    "de_titles = json.load(open('freq_titles_de.json'))\n",
    "en_titles = json.load(open('/tmp/t-jizhao/data/biosbias/BiosBias/freq_titles.json'))\n",
    "es_vals = [x.lower() for x in es_titles.values()]"
   ]
  },
  {
   "cell_type": "code",
   "execution_count": 58,
   "metadata": {},
   "outputs": [],
   "source": []
  },
  {
   "cell_type": "code",
   "execution_count": 138,
   "metadata": {},
   "outputs": [
    {
     "data": {
      "text/plain": [
       "33"
      ]
     },
     "execution_count": 138,
     "metadata": {},
     "output_type": "execute_result"
    }
   ],
   "source": [
    "len(set(en_titles.values()))"
   ]
  },
  {
   "cell_type": "code",
   "execution_count": 143,
   "metadata": {},
   "outputs": [],
   "source": []
  },
  {
   "cell_type": "code",
   "execution_count": 153,
   "metadata": {},
   "outputs": [],
   "source": [
    "de_bkp = set()\n",
    "for x in en_titles:\n",
    "    if en_titles[x].lower() in es_vals:\n",
    "#         print(en_titles[x].lower())\n",
    "        de_bkp.add(en_titles[x].lower())"
   ]
  },
  {
   "cell_type": "code",
   "execution_count": 155,
   "metadata": {},
   "outputs": [],
   "source": [
    "with open('/tmp/t-jizhao/data/biosbias/BiosBias/EN/data/filtered_titles', 'w') as f:\n",
    "    for x in de_bkp:\n",
    "        f.write(x+'\\n')"
   ]
  },
  {
   "cell_type": "code",
   "execution_count": 149,
   "metadata": {},
   "outputs": [],
   "source": [
    "with open('freq_titles_es_bkp.json', 'w') as f:\n",
    "    json.dump(de_bkp, f)"
   ]
  },
  {
   "cell_type": "code",
   "execution_count": 62,
   "metadata": {},
   "outputs": [
    {
     "data": {
      "text/plain": [
       "{'accountant',\n",
       " 'architect',\n",
       " 'dentist',\n",
       " 'journalist',\n",
       " 'nurse',\n",
       " 'painter',\n",
       " 'physician',\n",
       " 'surgeon',\n",
       " 'teacher'}"
      ]
     },
     "execution_count": 62,
     "metadata": {},
     "output_type": "execute_result"
    }
   ],
   "source": [
    "set(en_titles.values()) & set([x.lower() for x in de_titles.values()])"
   ]
  },
  {
   "cell_type": "code",
   "execution_count": null,
   "metadata": {},
   "outputs": [],
   "source": []
  }
 ],
 "metadata": {
  "kernelspec": {
   "display_name": "Python 3",
   "language": "python",
   "name": "python3"
  },
  "language_info": {
   "codemirror_mode": {
    "name": "ipython",
    "version": 3
   },
   "file_extension": ".py",
   "mimetype": "text/x-python",
   "name": "python",
   "nbconvert_exporter": "python",
   "pygments_lexer": "ipython3",
   "version": "3.7.1"
  }
 },
 "nbformat": 4,
 "nbformat_minor": 2
}

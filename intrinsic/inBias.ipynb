{
 "cells": [
  {
   "cell_type": "markdown",
   "metadata": {},
   "source": [
    "# Gender Bias in Multilingual Embeddings\n",
    "\n",
    "This notebook is for the intrinsic bias analysis. For extrinsic bias analysis, please refer to the \"Extrinsic Bias Analysis\" section in our paper."
   ]
  },
  {
   "cell_type": "code",
   "execution_count": 1,
   "metadata": {},
   "outputs": [],
   "source": [
    "%load_ext autoreload\n",
    "%autoreload 2"
   ]
  },
  {
   "cell_type": "code",
   "execution_count": 2,
   "metadata": {},
   "outputs": [],
   "source": [
    "import json\n",
    "import numpy as np\n",
    "import os\n",
    "import random\n",
    "random.seed(2)\n",
    "import scipy\n",
    "from collections import defaultdict\n",
    "import tqdm\n",
    "from matplotlib import pyplot as plt"
   ]
  },
  {
   "cell_type": "markdown",
   "metadata": {},
   "source": [
    " We adopt the WE class from [here](https://github.com/tolga-b/debiaswe)"
   ]
  },
  {
   "cell_type": "code",
   "execution_count": 3,
   "metadata": {},
   "outputs": [],
   "source": [
    "import sys\n",
    "sys.path.insert(0, \"/home/jyzhao/Github/debiaswe/debiaswe\")\n",
    "import we"
   ]
  },
  {
   "cell_type": "code",
   "execution_count": 4,
   "metadata": {},
   "outputs": [],
   "source": [
    "def sim(E, x, y):\n",
    "    return 1 - scipy.spatial.distance.cosine(E.v(x), E.v(y))\n",
    "\n",
    "def dis(E, x, y):\n",
    "    return scipy.spatial.distance.cosine(E.v(x), E.v(y))\n",
    "\n",
    "def sim_v(u, v):\n",
    "    return 1 - scipy.spatial.distance.cosine(u, v)"
   ]
  },
  {
   "cell_type": "code",
   "execution_count": 5,
   "metadata": {},
   "outputs": [],
   "source": [
    "def cal_bias_paired(E, paired_m, paired_f, gender_def_pairs):\n",
    "    assert len(paired_m) == len(paired_f) \n",
    "    O, M, F = [], [], []\n",
    "    \n",
    "    for idx in range(len(paired_m)):\n",
    "        overall = np.average([abs(dis(E, paired_m[idx], m) - dis(E, paired_f[idx], f))\\\n",
    "                             for f,m in gender_def_pairs])\n",
    "        O.append(overall) \n",
    "    return O, np.average(O)"
   ]
  },
  {
   "cell_type": "code",
   "execution_count": 6,
   "metadata": {},
   "outputs": [],
   "source": [
    "#read occ list from other languages. format: en-occ es-occ\n",
    "def read_occs(f_file, m_file, E):\n",
    "    occ_def_f_raw = []\n",
    "    occ_def_m_raw = []\n",
    "    with open(f_file, 'r') as es_f, open(m_file, 'r') as es_m:\n",
    "        for line in es_f.readlines():\n",
    "            tokens = line.strip().split('\\t')\n",
    "            if tokens[0].lower() not in en_occ_def_f:\n",
    "                print(\"wrong line:\", tokens)\n",
    "                break\n",
    "            occ_def_f_raw.append(tokens[1].lower())\n",
    "        for line in es_m.readlines():\n",
    "            tokens = line.strip().split('\\t')\n",
    "            if tokens[0].lower() not in en_occ_def_m:\n",
    "                print(\"wrong line:\", tokens)\n",
    "                break\n",
    "            occ_def_m_raw.append(tokens[1].lower())\n",
    "\n",
    "    print(len(occ_def_m_raw), len(occ_def_f_raw))    \n",
    "    ids = []\n",
    "    for idx in range(len(occ_def_f_raw)):\n",
    "        if occ_def_f_raw[idx]  in E.words and occ_def_m_raw[idx]  in E.words:\n",
    "            ids.append(idx)\n",
    "    print(f'{len(ids)} pairs in the embeddings')\n",
    "    occ_def_f = [occ_def_f_raw[x] for x in ids]\n",
    "    occ_def_m = [occ_def_m_raw[x] for x in ids]\n",
    "    return occ_def_f, occ_def_m"
   ]
  },
  {
   "cell_type": "markdown",
   "metadata": {},
   "source": [
    "# 1. inBias in English"
   ]
  },
  {
   "cell_type": "markdown",
   "metadata": {},
   "source": [
    "#### - Read embeddings\n",
    "  Generate a debiased EN from [here](https://github.com/tolga-b/debiaswe)"
   ]
  },
  {
   "cell_type": "code",
   "execution_count": 13,
   "metadata": {},
   "outputs": [],
   "source": [
    "en_ori_file = '/home/jyzhao/git7/fastText/alignment/data/wiki.en.vec'\n",
    "en_debiased_file = '/home/jyzhao/git7/fastText/alignment/data/wiki.en_debias.vec'\n",
    "en_sup_es_file = '/home/jyzhao/git7/fastText/alignment/res/wiki.en-es.vec' #fasttext EN-->Es\n",
    "en_sup_de_file = '/home/jyzhao/git7/fastText/alignment/res/wiki.en-de.vec' #fasttext EN-->de\n",
    "en_sup_fr_file = '/home/jyzhao/git7/fastText/alignment/res/wiki.en-fr.vec' \n",
    "en_sup_tr_file = '/home/jyzhao/git7/fastText/alignment/res/wiki.en-tr.vec'"
   ]
  },
  {
   "cell_type": "code",
   "execution_count": 6,
   "metadata": {},
   "outputs": [],
   "source": [
    "gender_definitions_files = 'inBias/en_gender_pairs.json'\n",
    "gender_pairs = json.load(open(gender_definitions_files, 'r'))\n",
    "gender_pairs = [[x.lower(), y.lower()] for x,y in gender_pairs]"
   ]
  },
  {
   "cell_type": "code",
   "execution_count": 16,
   "metadata": {},
   "outputs": [
    {
     "name": "stderr",
     "output_type": "stream",
     "text": [
      "0it [00:00, ?it/s]"
     ]
    },
    {
     "name": "stdout",
     "output_type": "stream",
     "text": [
      "*** Reading data from /home/jyzhao/git7/fastText/alignment/data/wiki.en.vec\n",
      "2519370 vocabs; 300 dimensions\n"
     ]
    },
    {
     "name": "stderr",
     "output_type": "stream",
     "text": [
      "2519370it [11:11, 3749.08it/s]\n"
     ]
    },
    {
     "name": "stdout",
     "output_type": "stream",
     "text": [
      "(2519370, 300)\n",
      "2519370 words of dimension 300 : ,, ., the, </s>, ..., ukihashi, draw_lax, style—but, korpaljo\n",
      "2519370 words of dimension 300 : ,, ., the, </s>, ..., ukihashi, draw_lax, style—but, korpaljo\n"
     ]
    }
   ],
   "source": [
    "#read original EN\n",
    "en_ori_E = we.WordEmbedding(en_ori_file)\n",
    "#gender direction \n",
    "en_ori_gd = we.doPCA(gender_pairs, en_ori_E).components_[0] "
   ]
  },
  {
   "cell_type": "code",
   "execution_count": null,
   "metadata": {},
   "outputs": [],
   "source": [
    "#reading debiased EN\n",
    "en_deb_E = we.WordEmbedding(en_debiased_file)\n",
    "en_deb_gd = we.doPCA(gender_pairs, en_deb_E).components_[0]"
   ]
  },
  {
   "cell_type": "code",
   "execution_count": null,
   "metadata": {},
   "outputs": [],
   "source": [
    "#read EN-ES\n",
    "en_sup_es_E = we.WordEmbedding(en_sup_es_file)\n",
    "en_sup_es_gd = we.doPCA(gender_pairs, en_sup_es_E).components_[0]"
   ]
  },
  {
   "cell_type": "code",
   "execution_count": null,
   "metadata": {},
   "outputs": [],
   "source": [
    "#read EN-DE\n",
    "en_sup_de_E = we.WordEmbedding(en_sup_de_file)\n",
    "en_sup_de_gd = we.doPCA(gender_pairs, en_sup_de_E).components_[0]"
   ]
  },
  {
   "cell_type": "code",
   "execution_count": null,
   "metadata": {},
   "outputs": [],
   "source": [
    "#read EN-FR\n",
    "en_sup_fr_E = we.WordEmbedding(en_sup_fr_file)\n",
    "en_sup_fr_gd = we.doPCA(gender_pairs, en_sup_fr_E).components_[0]"
   ]
  },
  {
   "cell_type": "code",
   "execution_count": null,
   "metadata": {},
   "outputs": [],
   "source": [
    "#read EN-TR\n",
    "en_sup_tr_E = we.WordEmbedding(en_sup_tr_file)\n",
    "en_sup_tr_gd = we.doPCA(gender_pairs, en_sup_tr_E).components_[0]"
   ]
  },
  {
   "cell_type": "markdown",
   "metadata": {},
   "source": [
    "\n",
    "#### - Read masculine/feminine occupations. The occupation lists are adopted from [Learning Gender-Neutral Word Embeddings](https://github.com/uclanlp/gn_glove) and extended by us. "
   ]
  },
  {
   "cell_type": "code",
   "execution_count": 26,
   "metadata": {},
   "outputs": [],
   "source": [
    "vocab = en_ori_E.words"
   ]
  },
  {
   "cell_type": "code",
   "execution_count": 12,
   "metadata": {},
   "outputs": [],
   "source": [
    "en_occ_def_f_raw = [x.strip().split('\\t')[0] for x in open('inBias/en_female_def_occ').readlines()]\n",
    "en_occ_def_m_raw = [x.strip().split('\\t')[0] for x in open('inBias/en_male_def_occ').readlines()]"
   ]
  },
  {
   "cell_type": "code",
   "execution_count": 42,
   "metadata": {},
   "outputs": [],
   "source": [
    "#make sure both feminine and masculine versions are in the vocab\n",
    "ids = []\n",
    "for x in range(len(en_occ_def_m_raw)):\n",
    "    if en_occ_def_f_raw[x] in vocab and en_occ_def_m_raw[x] in vocab:\n",
    "        ids.append(x)  \n",
    "    else:\n",
    "        print(x)\n",
    "en_occ_def_f = [en_occ_def_f_raw[x] for x in ids]\n",
    "en_occ_def_m = [en_occ_def_m_raw[x] for x in ids]"
   ]
  },
  {
   "cell_type": "markdown",
   "metadata": {},
   "source": [
    "- **inBias score in EN-xx embeddings**"
   ]
  },
  {
   "cell_type": "code",
   "execution_count": 52,
   "metadata": {},
   "outputs": [
    {
     "name": "stdout",
     "output_type": "stream",
     "text": [
      "in original EN, average bias in strong gendered words:0.113837761300656\n",
      "in original EN, average bias in weak gendered words:0.047707567879007436\n",
      "in original EN, average bias across all occupation words:0.08295984997537262\n"
     ]
    }
   ],
   "source": [
    "#Using paired English occupations such as actor/actress\n",
    "O_en_ori_p, O = cal_bias_paired(en_ori_E, en_occ_def_m[:137], en_occ_def_f[:137], gender_pairs)\n",
    "print(f\"in original EN, average bias in strong gendered words:{O}\")\n",
    "O_en_ori_s, O = cal_bias_paired(en_ori_E, en_occ_def_m[137:], en_occ_def_f[137:], gender_pairs)\n",
    "print(f\"in original EN, average bias in weak gendered words:{O}\")\n",
    "O_en_ori, O = cal_bias_paired(en_ori_E, en_occ_def_m, en_occ_def_f, gender_pairs)\n",
    "print(f\"in original EN, average bias across all occupation words:{O}\")"
   ]
  },
  {
   "cell_type": "code",
   "execution_count": 53,
   "metadata": {},
   "outputs": [
    {
     "name": "stdout",
     "output_type": "stream",
     "text": [
      "in EN-ES, average bias in strong gendered words:0.08481298356233141\n",
      "in EN-ES, average bias in weak gendered words:0.040029569166815944\n",
      "in EN-ES, average bias:0.06390243987570941\n"
     ]
    }
   ],
   "source": [
    "O_en_sup_es_p, O = cal_bias_paired(en_sup_es_E, en_occ_def_m[:137], en_occ_def_f[:137], gender_pairs)\n",
    "print(f\"in EN-ES, average bias in strong gendered words:{O}\")\n",
    "O_en_sup_es_s, O,  = cal_bias_paired(en_sup_es_E, en_occ_def_m[137:], en_occ_def_f[137:], gender_pairs)\n",
    "print(f\"in EN-ES, average bias in weak gendered words:{O}\")\n",
    "O_en_sup_es, O  = cal_bias_paired(en_sup_es_E, en_occ_def_m, en_occ_def_f, gender_pairs)\n",
    "print(f\"in EN-ES, average bias:{O}\")"
   ]
  },
  {
   "cell_type": "code",
   "execution_count": 33,
   "metadata": {},
   "outputs": [
    {
     "data": {
      "text/plain": [
       "Ttest_indResult(statistic=4.906336461890209, pvalue=1.2488050530237517e-06)"
      ]
     },
     "execution_count": 33,
     "metadata": {},
     "output_type": "execute_result"
    }
   ],
   "source": [
    "scipy.stats.ttest_ind(O_en_ori, O_en_sup_es)"
   ]
  },
  {
   "cell_type": "code",
   "execution_count": 34,
   "metadata": {},
   "outputs": [
    {
     "data": {
      "text/plain": [
       "Ttest_indResult(statistic=5.705271952879427, pvalue=3.028436192227244e-08)"
      ]
     },
     "execution_count": 34,
     "metadata": {},
     "output_type": "execute_result"
    }
   ],
   "source": [
    "scipy.stats.ttest_ind(O_en_ori_p, O_en_sup_es_p)"
   ]
  },
  {
   "cell_type": "code",
   "execution_count": 35,
   "metadata": {},
   "outputs": [
    {
     "name": "stdout",
     "output_type": "stream",
     "text": [
      "in DE-EN, average bias:0.0934872714574513\n",
      "in DE-EN, average bias:0.043027333163276865\n",
      "in DE-EN, average bias:0.06992621077534651\n"
     ]
    }
   ],
   "source": [
    "O_en_sup_de_p, O = cal_bias_paired(en_sup_de_E, en_occ_def_m[:137], en_occ_def_f[:137],gender_pairs)\n",
    "print(f\"in DE-EN, average bias:{O}\")\n",
    "O_en_sup_de_s, O = cal_bias_paired(en_sup_de_E, en_occ_def_m[137:], en_occ_def_f[137:], gender_pairs)\n",
    "print(f\"in DE-EN, average bias:{O}\")\n",
    "O_en_sup_de, O  = cal_bias_paired(en_sup_de_E, en_occ_def_m, en_occ_def_f, gender_pairs)\n",
    "print(f\"in DE-EN, average bias:{O}\")"
   ]
  },
  {
   "cell_type": "code",
   "execution_count": 36,
   "metadata": {},
   "outputs": [
    {
     "data": {
      "text/plain": [
       "(Ttest_indResult(statistic=3.241942332987269, pvalue=0.001264507059230683),\n",
       " Ttest_indResult(statistic=3.8952743315311618, pvalue=0.00012352672682877826))"
      ]
     },
     "execution_count": 36,
     "metadata": {},
     "output_type": "execute_result"
    }
   ],
   "source": [
    "scipy.stats.ttest_ind(O_en_ori, O_en_sup_de), scipy.stats.ttest_ind(O_en_ori_p, O_en_sup_de_p)"
   ]
  },
  {
   "cell_type": "code",
   "execution_count": 37,
   "metadata": {},
   "outputs": [
    {
     "name": "stdout",
     "output_type": "stream",
     "text": [
      "in FR-EN, average bias:0.08329827981394476\n",
      "in FR-EN, average bias:0.03947033618611318 \n",
      "in FR-EN, average bias:0.06283387033791445 \n"
     ]
    }
   ],
   "source": [
    "O_en_sup_fr_p, O = cal_bias_paired(en_sup_fr_E, en_occ_def_m[:137], en_occ_def_f[:137],gender_pairs)\n",
    "print(f\"in FR-EN, average bias:{O}\")\n",
    "O_en_sup_fr_s, O, = cal_bias_paired(en_sup_fr_E, en_occ_def_m[137:], en_occ_def_f[137:], gender_pairs)\n",
    "print(f\"in FR-EN, average bias:{O} \")\n",
    "O_en_sup_fr, O = cal_bias_paired(en_sup_fr_E, en_occ_def_m, en_occ_def_f, gender_pairs)\n",
    "print(f\"in FR-EN, average bias:{O} \")"
   ]
  },
  {
   "cell_type": "code",
   "execution_count": 38,
   "metadata": {},
   "outputs": [
    {
     "data": {
      "text/plain": [
       "(Ttest_indResult(statistic=5.175336971540256, pvalue=3.2727527122779993e-07),\n",
       " Ttest_indResult(statistic=5.986697194534606, pvalue=6.745202310216384e-09))"
      ]
     },
     "execution_count": 38,
     "metadata": {},
     "output_type": "execute_result"
    }
   ],
   "source": [
    "scipy.stats.ttest_ind(O_en_ori, O_en_sup_fr), scipy.stats.ttest_ind(O_en_ori_p, O_en_sup_fr_p)"
   ]
  },
  {
   "cell_type": "code",
   "execution_count": 39,
   "metadata": {},
   "outputs": [
    {
     "name": "stdout",
     "output_type": "stream",
     "text": [
      "in tr-aligned EN, average bias:0.059185084214831034\n"
     ]
    }
   ],
   "source": [
    "O_en_sup_tr, O = cal_bias_paired(en_sup_tr_E, en_occ_def_m, en_occ_def_f,  gender_pairs)\n",
    "print(f\"in tr-aligned EN, average bias:{O}\")"
   ]
  },
  {
   "cell_type": "markdown",
   "metadata": {},
   "source": [
    "## - Bias in ENDEB"
   ]
  },
  {
   "cell_type": "code",
   "execution_count": 40,
   "metadata": {},
   "outputs": [
    {
     "name": "stdout",
     "output_type": "stream",
     "text": [
      "in debiased EN, average bias:0.08297640271635917\n",
      "in debiased EN, average bias:0.01260097629791643\n",
      "in debiased EN, average bias:0.05011628143148319\n"
     ]
    }
   ],
   "source": [
    "O_en_deb_p, O = cal_bias_paired(en_deb_E, en_occ_def_m[:137], en_occ_def_f[:137], gender_pairs)\n",
    "print(f\"in debiased EN, average bias:{O}\")\n",
    "O_en_deb_s, O = cal_bias_paired(en_deb_E, en_occ_def_m[137:], en_occ_def_f[137:],  gender_pairs)\n",
    "print(f\"in debiased EN, average bias:{O}\")\n",
    "O_en_deb, O = cal_bias_paired(en_deb_E, en_occ_def_m, en_occ_def_f,  gender_pairs)\n",
    "print(f\"in debiased EN, average bias:{O}\")"
   ]
  },
  {
   "cell_type": "code",
   "execution_count": 44,
   "metadata": {},
   "outputs": [],
   "source": [
    "endeb_sup_es_file = '/local/jyzhao/Github/fastText/alignment/res/wiki.endeb-es.vec' #fasttext EN-->Es\n",
    "endeb_sup_de_file = '/home/jyzhao/git7/fastText/alignment/res/wiki.endeb-de.vec' #fasttext EN-->de\n",
    "endeb_sup_fr_file = '/home/jyzhao/git7/fastText/alignment/res/wiki.endeb-fr.vec' "
   ]
  },
  {
   "cell_type": "code",
   "execution_count": null,
   "metadata": {},
   "outputs": [],
   "source": [
    "endeb_sup_es_E = we.WordEmbedding(endeb_sup_es_file)\n",
    "endeb_sup_de_E = we.WordEmbedding(endeb_sup_de_file)\n",
    "endeb_sup_fr_E = we.WordEmbedding(endeb_sup_fr_file)"
   ]
  },
  {
   "cell_type": "code",
   "execution_count": 46,
   "metadata": {},
   "outputs": [
    {
     "name": "stdout",
     "output_type": "stream",
     "text": [
      "in ENDEB-ES, average bias for strong gendered words:0.06830389713694772\n",
      "in ENDEB-ES, average bias for weak gendered words:0.020136128379790872\n",
      "in ENDEB-ES, average bias:0.04581311016862546\n"
     ]
    }
   ],
   "source": [
    "O_endeb_es_p, O = cal_bias_paired(endeb_sup_es_E, en_occ_def_m[:137], en_occ_def_f[:137], gender_pairs)\n",
    "print(f\"in ENDEB-ES, average bias for strong gendered words:{O}\")\n",
    "O_endeb_es_s, O = cal_bias_paired(endeb_sup_es_E, en_occ_def_m[137:], en_occ_def_f[137:], gender_pairs)\n",
    "print(f\"in ENDEB-ES, average bias for weak gendered words:{O}\")\n",
    "O_endeb_es, O = cal_bias_paired(endeb_sup_es_E, en_occ_def_m, en_occ_def_f, gender_pairs)\n",
    "print(f\"in ENDEB-ES, average bias:{O}\")"
   ]
  },
  {
   "cell_type": "code",
   "execution_count": 47,
   "metadata": {},
   "outputs": [
    {
     "name": "stdout",
     "output_type": "stream",
     "text": [
      "in ENDEB-DE, average bias for strong gendered words:0.07469259366235981, \n",
      "in ENDEB-DE, average bias for weak gendered words:0.02694967444986105, \n",
      "in ENDEB-DE, average bias:0.05240018002228257,  \n"
     ]
    }
   ],
   "source": [
    "O_endeb_de_p, O= cal_bias_paired(endeb_sup_de_E, en_occ_def_m[:137], en_occ_def_f[:137], gender_pairs)\n",
    "print(f\"in ENDEB-DE, average bias for strong gendered words:{O}, \")\n",
    "O_endeb_de_s, O = cal_bias_paired(endeb_sup_de_E, en_occ_def_m[137:], en_occ_def_f[137:], gender_pairs)\n",
    "print(f\"in ENDEB-DE, average bias for weak gendered words:{O}, \")\n",
    "O_endeb_de, O = cal_bias_paired(endeb_sup_de_E, en_occ_def_m, en_occ_def_f, gender_pairs)\n",
    "print(f\"in ENDEB-DE, average bias:{O},  \")"
   ]
  },
  {
   "cell_type": "code",
   "execution_count": 49,
   "metadata": {},
   "outputs": [
    {
     "name": "stdout",
     "output_type": "stream",
     "text": [
      "in FR-ENDEB, average bias for strong gendered words:0.06851245712455656 \n",
      "in FR-ENDEB, average bias for weak gendered words:0.016227787953835948 \n",
      "in FR-ENDEB, average bias:0.04409938202538741 \n"
     ]
    }
   ],
   "source": [
    "O_endeb_fr_p, O  = cal_bias_paired(endeb_sup_fr_E, en_occ_def_m[:137], en_occ_def_f[:137], gender_pairs)\n",
    "print(f\"in FR-ENDEB, average bias for strong gendered words:{O} \")\n",
    "O_endeb_fr_s, O  = cal_bias_paired(endeb_sup_fr_E, en_occ_def_m[137:], en_occ_def_f[137:], gender_pairs)\n",
    "print(f\"in FR-ENDEB, average bias for weak gendered words:{O} \")\n",
    "O_endeb_fr, O = cal_bias_paired(endeb_sup_fr_E, en_occ_def_m, en_occ_def_f, gender_pairs)\n",
    "print(f\"in FR-ENDEB, average bias:{O} \")"
   ]
  },
  {
   "cell_type": "code",
   "execution_count": 50,
   "metadata": {},
   "outputs": [
    {
     "data": {
      "text/plain": [
       "(Ttest_indResult(statistic=7.274914900238362, pvalue=1.309257920907468e-12),\n",
       " Ttest_indResult(statistic=9.568202550651037, pvalue=4.596640811617006e-20),\n",
       " Ttest_indResult(statistic=7.4628058708328995, pvalue=3.6622724157040465e-13),\n",
       " Ttest_indResult(statistic=9.799839593791644, pvalue=6.768611519109361e-21))"
      ]
     },
     "execution_count": 50,
     "metadata": {},
     "output_type": "execute_result"
    }
   ],
   "source": [
    "scipy.stats.ttest_ind(O_en_ori, O_en_deb), \\\n",
    "scipy.stats.ttest_ind(O_en_ori, O_endeb_es),\\\n",
    "scipy.stats.ttest_ind(O_en_ori, O_endeb_de), \\\n",
    "scipy.stats.ttest_ind(O_en_ori, O_endeb_fr)"
   ]
  },
  {
   "cell_type": "code",
   "execution_count": null,
   "metadata": {},
   "outputs": [],
   "source": []
  },
  {
   "cell_type": "markdown",
   "metadata": {},
   "source": [
    "----\n",
    "# 2. inBias in ES"
   ]
  },
  {
   "cell_type": "code",
   "execution_count": 56,
   "metadata": {},
   "outputs": [],
   "source": [
    "es_ori_file = '/home/jyzhao/git7/fastText/alignment/data/wiki.es.vec'\n",
    "es_ali_file = '/home/jyzhao/git7/fastText/alignment/res/wiki.es.align.vec'\n",
    "es_sup_de_file = '/home/jyzhao/git7/fastText/alignment/res/wiki.es-de.vec'\n",
    "es_sup_fr_file = '/home/jyzhao/git7/fastText/alignment/res/wiki.es-fr.vec'\n",
    "es_sup_endeb_file = '/home/jyzhao/git7/fastText/alignment/res/wiki.es-endeb.vec'"
   ]
  },
  {
   "cell_type": "code",
   "execution_count": null,
   "metadata": {},
   "outputs": [],
   "source": [
    "es_ori_E = we.WordEmbedding(es_ori_file)\n",
    "es_sup_endeb_E = we.WordEmbedding(es_sup_endeb_file)\n",
    "es_ali_E = we.WordEmbedding(es_ali_file)\n",
    "es_sup_de_E = we.WordEmbedding(es_sup_de_file)\n",
    "es_sup_fr_E = we.WordEmbedding(es_sup_fr_file)"
   ]
  },
  {
   "cell_type": "code",
   "execution_count": 59,
   "metadata": {},
   "outputs": [],
   "source": [
    "es_gender_pairs = json.load(open('inBias/es_gender_pairs.json', 'r'))"
   ]
  },
  {
   "cell_type": "code",
   "execution_count": 62,
   "metadata": {},
   "outputs": [],
   "source": [
    "es_ori_gd = we.doPCA(es_gender_pairs, es_ori_E).components_[0]\n",
    "es_ali_gd = we.doPCA(es_gender_pairs, es_ali_E).components_[0]\n",
    "es_sup_endeb_gd = we.doPCA(es_gender_pairs, es_sup_endeb_E).components_[0]\n",
    "es_sup_de_gd = we.doPCA(es_gender_pairs, es_sup_de_E).components_[0]\n",
    "es_sup_fr_gd = we.doPCA(es_gender_pairs, es_sup_fr_E).components_[0]"
   ]
  },
  {
   "cell_type": "markdown",
   "metadata": {},
   "source": [
    "- Read the occupation list for ES\n",
    "The list is translated from EN."
   ]
  },
  {
   "cell_type": "code",
   "execution_count": 64,
   "metadata": {},
   "outputs": [
    {
     "name": "stdout",
     "output_type": "stream",
     "text": [
      "257 257\n",
      "251 pairs in the embeddings\n"
     ]
    }
   ],
   "source": [
    "es_occ_def_f, es_occ_def_m = read_occs('inBias/es_female_def_occ', 'inBias/es_male_def_occ', es_ori_E)"
   ]
  },
  {
   "cell_type": "markdown",
   "metadata": {},
   "source": [
    "- #### inBias score changes"
   ]
  },
  {
   "cell_type": "code",
   "execution_count": 67,
   "metadata": {},
   "outputs": [
    {
     "name": "stdout",
     "output_type": "stream",
     "text": [
      "in original ES, average bias:0.08032530358274752\n",
      "in ES-EN, average bias:0.08891596550644666\n",
      "in ES-DE, average bias:0.06340341033160872\n",
      "in ES-FR, average bias:0.06417109799786128\n",
      "in ES-ENDEB, average bias:0.06649101964532406\n"
     ]
    }
   ],
   "source": [
    "o_es_ori, o = cal_bias_paired(es_ori_E,  es_occ_def_m, es_occ_def_f, es_gender_pairs)\n",
    "print(f\"in original ES, average bias:{o}\")\n",
    "\n",
    "o_es_ali, o = cal_bias_paired(es_ali_E, es_occ_def_m, es_occ_def_f, es_gender_pairs)\n",
    "print(f\"in ES-EN, average bias:{o}\")\n",
    "\n",
    "o_es_sup_de, o = cal_bias_paired(es_sup_de_E,es_occ_def_m, es_occ_def_f,es_gender_pairs)\n",
    "print(f\"in ES-DE, average bias:{o}\")\n",
    "\n",
    "o_es_sup_fr, o = cal_bias_paired(es_sup_fr_E,es_occ_def_m, es_occ_def_f,  es_gender_pairs)\n",
    "print(f\"in ES-FR, average bias:{o}\")\n",
    "\n",
    "o_es_sup_endeb, o, = cal_bias_paired(es_sup_endeb_E, es_occ_def_m, es_occ_def_f, es_gender_pairs)\n",
    "print(f\"in ES-ENDEB, average bias:{o}\")"
   ]
  },
  {
   "cell_type": "code",
   "execution_count": 68,
   "metadata": {},
   "outputs": [
    {
     "data": {
      "text/plain": [
       "Ttest_indResult(statistic=-2.040347658109655, pvalue=0.04184055027641032)"
      ]
     },
     "execution_count": 68,
     "metadata": {},
     "output_type": "execute_result"
    }
   ],
   "source": [
    "scipy.stats.ttest_ind(o_es_ori, o_es_ali)"
   ]
  },
  {
   "cell_type": "code",
   "execution_count": 69,
   "metadata": {},
   "outputs": [
    {
     "data": {
      "text/plain": [
       "Ttest_indResult(statistic=4.961198471930474, pvalue=9.618954015293024e-07)"
      ]
     },
     "execution_count": 69,
     "metadata": {},
     "output_type": "execute_result"
    }
   ],
   "source": [
    "scipy.stats.ttest_ind(o_es_ori, o_es_sup_de)"
   ]
  },
  {
   "cell_type": "code",
   "execution_count": 70,
   "metadata": {},
   "outputs": [
    {
     "data": {
      "text/plain": [
       "Ttest_indResult(statistic=4.3013699906592615, pvalue=2.042143354674492e-05)"
      ]
     },
     "execution_count": 70,
     "metadata": {},
     "output_type": "execute_result"
    }
   ],
   "source": [
    "scipy.stats.ttest_ind(o_es_ori, o_es_sup_fr)"
   ]
  },
  {
   "cell_type": "code",
   "execution_count": 71,
   "metadata": {},
   "outputs": [
    {
     "data": {
      "text/plain": [
       "Ttest_indResult(statistic=3.9167408611074874, pvalue=0.00010222515267355803)"
      ]
     },
     "execution_count": 71,
     "metadata": {},
     "output_type": "execute_result"
    }
   ],
   "source": [
    "scipy.stats.ttest_ind(o_es_ori, o_es_sup_endeb)"
   ]
  },
  {
   "cell_type": "code",
   "execution_count": null,
   "metadata": {},
   "outputs": [],
   "source": []
  },
  {
   "cell_type": "markdown",
   "metadata": {},
   "source": [
    "----\n",
    "# 3. inBias in German"
   ]
  },
  {
   "cell_type": "code",
   "execution_count": 91,
   "metadata": {},
   "outputs": [],
   "source": [
    "de_ori_file = '/home/jyzhao/git7/fastText/alignment/data/wiki.de.vec'\n",
    "de_ali_file = '/home/jyzhao/git7/fastText/alignment/res/wiki.de.align.vec'\n",
    "de_sup_endeb_file = '/home/jyzhao/git7/fastText/alignment/res/wiki.de-endeb.vec'\n",
    "de_sup_es_file = '/home/jyzhao/git7/fastText/alignment/res/wiki.de-es.vec'\n",
    "de_sup_fr_file = '/home/jyzhao/git7/fastText/alignment/res/wiki.de-fr.vec'"
   ]
  },
  {
   "cell_type": "code",
   "execution_count": null,
   "metadata": {},
   "outputs": [],
   "source": [
    "de_ori_E = we.WordEmbedding(de_ori_file)\n",
    "de_ali_E = we.WordEmbedding(de_ali_file)\n",
    "de_sup_endeb_E = we.WordEmbedding(de_sup_endeb_file)\n",
    "de_sup_es_E = we.WordEmbedding(de_sup_es_file)\n",
    "de_sup_fr_E = we.WordEmbedding(de_sup_fr_file)"
   ]
  },
  {
   "cell_type": "code",
   "execution_count": null,
   "metadata": {},
   "outputs": [],
   "source": [
    "de_ori_gd = we.doPCA(de_gender_pairs, de_ori_E).components_[0]\n",
    "de_sup_ali_gd = we.doPCA(de_gender_pairs, de_sup_ali_E).components_[0]\n",
    "de_sup_endeb_gd = we.doPCA(de_gender_pairs, de_sup_endeb_E).components_[0]\n",
    "de_sup_es_gd = we.doPCA(de_gender_pairs, de_sup_es_E).components_[0]\n",
    "de_sup_fr_gd = we.doPCA(de_gender_pairs, de_sup_fr_E).components_[0]"
   ]
  },
  {
   "cell_type": "code",
   "execution_count": 99,
   "metadata": {},
   "outputs": [],
   "source": [
    "de_gender_pairs = json.load(open('inBias/de_gender_pairs.json'))"
   ]
  },
  {
   "cell_type": "code",
   "execution_count": 98,
   "metadata": {},
   "outputs": [
    {
     "name": "stdout",
     "output_type": "stream",
     "text": [
      "257 257\n",
      "227 pairs in the embeddings\n"
     ]
    }
   ],
   "source": [
    "de_occ_def_f, de_occ_def_m = read_occs('inBias/de_female_def_occ', 'inBias/de_male_def_occ', de_ori_E)"
   ]
  },
  {
   "cell_type": "code",
   "execution_count": 101,
   "metadata": {},
   "outputs": [
    {
     "name": "stdout",
     "output_type": "stream",
     "text": [
      "in original DE, average bias:0.10794044646415794\n",
      "in DE-EN, average bias:0.11236809847518123\n",
      "in DE-ES, average bias:0.0715921776614467,\n",
      "in DE-FR, average bias:0.08045753194051108\n",
      "in DE-ENDEB, average bias:0.08760217654168227\n"
     ]
    }
   ],
   "source": [
    "O_de_ori, O = cal_bias_paired(de_ori_E, de_occ_def_m, de_occ_def_f, de_gender_pairs)\n",
    "print(f\"in original DE, average bias:{O}\")\n",
    "O_de_ali, O = cal_bias_paired(de_ali_E, de_occ_def_m, de_occ_def_f, de_gender_pairs)\n",
    "print(f\"in DE-EN, average bias:{O}\")\n",
    "O_de_sup_es, O = cal_bias_paired(de_sup_es_E, de_occ_def_m, de_occ_def_f, de_gender_pairs)\n",
    "print(f\"in DE-ES, average bias:{O},\")\n",
    "O_de_sup_fr, O  = cal_bias_paired(de_sup_fr_E, de_occ_def_m, de_occ_def_f, de_gender_pairs)\n",
    "print(f\"in DE-FR, average bias:{O}\")\n",
    "O_de_sup_endeb, O = cal_bias_paired(de_sup_endeb_E, de_occ_def_m, de_occ_def_f, de_gender_pairs)\n",
    "print(f\"in DE-ENDEB, average bias:{O}\")"
   ]
  },
  {
   "cell_type": "code",
   "execution_count": 103,
   "metadata": {},
   "outputs": [
    {
     "data": {
      "text/plain": [
       "(Ttest_indResult(statistic=-1.0345021113242807, pvalue=0.3014546477811253),\n",
       " Ttest_indResult(statistic=10.107973688796818, pvalue=8.608345309840627e-22),\n",
       " Ttest_indResult(statistic=7.266793061926496, pvalue=1.6278239571962895e-12),\n",
       " Ttest_indResult(statistic=5.50311586686706, pvalue=6.261712150209876e-08))"
      ]
     },
     "execution_count": 103,
     "metadata": {},
     "output_type": "execute_result"
    }
   ],
   "source": [
    "scipy.stats.ttest_ind(O_de_ori, O_de_ali),\\\n",
    "scipy.stats.ttest_ind(O_de_ori, O_de_sup_es), \\\n",
    "scipy.stats.ttest_ind(O_de_ori, O_de_sup_fr),\\\n",
    "scipy.stats.ttest_ind(O_de_ori, O_de_sup_endeb)"
   ]
  },
  {
   "cell_type": "markdown",
   "metadata": {},
   "source": [
    "---\n",
    "# 4. inBias in French"
   ]
  },
  {
   "cell_type": "code",
   "execution_count": 40,
   "metadata": {},
   "outputs": [],
   "source": [
    "fr_ori_file = '/home/jyzhao/git7/fastText/alignment/data/wiki.fr.vec'\n",
    "fr_ali_file = '/home/jyzhao/git7/fastText/alignment/res/wiki.fr.align.vec'\n",
    "fr_sup_es_file = '/home/jyzhao/git7/fastText/alignment/res/wiki.fr-es.vec' \n",
    "fr_sup_de_file = '/home/jyzhao/git7/fastText/alignment/res/wiki.fr-de.vec' \n",
    "fr_sup_endeb_file = '/home/jyzhao/git7/fastText/alignment/res/wiki.fr-endeb.vec' "
   ]
  },
  {
   "cell_type": "code",
   "execution_count": 41,
   "metadata": {},
   "outputs": [
    {
     "name": "stderr",
     "output_type": "stream",
     "text": [
      "1673it [00:00, 8560.17it/s]"
     ]
    },
    {
     "name": "stdout",
     "output_type": "stream",
     "text": [
      "*** Reading data from /home/jyzhao/git7/fastText/alignment/res/wiki.fr-endeb.vec\n",
      "1152449 vocabs; 300 dimensions\n"
     ]
    },
    {
     "name": "stderr",
     "output_type": "stream",
     "text": [
      "1152449it [01:57, 9842.21it/s] \n"
     ]
    },
    {
     "name": "stdout",
     "output_type": "stream",
     "text": [
      "(1152449, 300)\n",
      "1152449 words of dimension 300 : </s>, ,, de, ', ..., #détecteur, damno, ehrengabe, concentrat\n",
      "1152449 words of dimension 300 : </s>, ,, de, ', ..., #détecteur, damno, ehrengabe, concentrat\n"
     ]
    }
   ],
   "source": [
    "fr_ori_E = we.WordEmbedding(fr_ori_file)\n",
    "fr_ali_E = we.WordEmbedding(fr_ali_file)\n",
    "fr_sup_es_E = we.WordEmbedding(fr_sup_es_file)\n",
    "fr_sup_de_E = we.WordEmbedding(fr_sup_de_file)\n",
    "fr_sup_endeb_E = we.WordEmbedding(fr_sup_endeb_file)"
   ]
  },
  {
   "cell_type": "code",
   "execution_count": 42,
   "metadata": {},
   "outputs": [],
   "source": [
    "fr_gender_pairs = json.load(open('inBias/fr_gender_pairs.json'))"
   ]
  },
  {
   "cell_type": "code",
   "execution_count": 43,
   "metadata": {},
   "outputs": [
    {
     "name": "stdout",
     "output_type": "stream",
     "text": [
      "257 257\n",
      "239 pairs in the embeddings\n"
     ]
    }
   ],
   "source": [
    "fr_occ_def_f, fr_occ_def_m = read_occs('inBias/fr_female_def_occ', 'inBias/fr_male_def_occ', fr_ori_E)"
   ]
  },
  {
   "cell_type": "code",
   "execution_count": 44,
   "metadata": {},
   "outputs": [],
   "source": [
    "fr_ori_gd = we.doPCA(fr_gender_pairs, fr_ori_E).components_[0]\n",
    "fr_sup_ali_gd = we.doPCA(fr_gender_pairs, fr_ali_E).components_[0]\n",
    "fr_sup_es_gd = we.doPCA(fr_gender_pairs, fr_sup_es_E).components_[0]\n",
    "fr_sup_de_gd = we.doPCA(fr_gender_pairs, fr_sup_de_E).components_[0]\n",
    "fr_sup_endeb_gd = we.doPCA(fr_gender_pairs, fr_sup_endeb_E).components_[0]"
   ]
  },
  {
   "cell_type": "code",
   "execution_count": 45,
   "metadata": {},
   "outputs": [
    {
     "name": "stdout",
     "output_type": "stream",
     "text": [
      "in original fr, average bias:0.09398277639833535\n",
      "in FR-EN, average bias:0.102673281450014\n",
      "in FR-ES, average bias:0.07680788650062682\n",
      "in FR-DE, average bias:0.07817990581887316 \n",
      "in FR-ENDEB, average bias:0.09054989769867773 \n"
     ]
    }
   ],
   "source": [
    "O_fr_ori, O = cal_bias_paired(fr_ori_E, fr_occ_def_m, fr_occ_def_f, fr_gender_pairs)\n",
    "print(f\"in original fr, average bias:{O}\")\n",
    "O_fr_ali, O = cal_bias_paired(fr_ali_E, fr_occ_def_m, fr_occ_def_f, fr_gender_pairs)\n",
    "print(f\"in FR-EN, average bias:{O}\")\n",
    "O_fr_sup_es, O = cal_bias_paired(fr_sup_es_E, fr_occ_def_m, fr_occ_def_f, fr_gender_pairs)\n",
    "print(f\"in FR-ES, average bias:{O}\")\n",
    "O_fr_sup_de, O = cal_bias_paired(fr_sup_de_E, fr_occ_def_m, fr_occ_def_f, fr_gender_pairs)\n",
    "print(f\"in FR-DE, average bias:{O} \")\n",
    "O_fr_sup_endeb, O = cal_bias_paired(fr_sup_endeb_E, fr_occ_def_m, fr_occ_def_f, fr_gender_pairs)\n",
    "print(f\"in FR-ENDEB, average bias:{O} \")"
   ]
  },
  {
   "cell_type": "code",
   "execution_count": 46,
   "metadata": {},
   "outputs": [
    {
     "data": {
      "text/plain": [
       "(Ttest_indResult(statistic=-1.7553977439202768, pvalue=0.07983452381576936),\n",
       " Ttest_indResult(statistic=3.8995107080864835, pvalue=0.00011024162592399763),\n",
       " Ttest_indResult(statistic=3.707848282348697, pvalue=0.0002336389153157107),\n",
       " Ttest_indResult(statistic=0.765868312212895, pvalue=0.4441342638157171))"
      ]
     },
     "execution_count": 46,
     "metadata": {},
     "output_type": "execute_result"
    }
   ],
   "source": [
    "scipy.stats.ttest_ind(O_fr_ori, O_fr_ali), \\\n",
    "scipy.stats.ttest_ind(O_fr_ori, O_fr_sup_es), \\\n",
    "scipy.stats.ttest_ind(O_fr_ori, O_fr_sup_de), \\\n",
    "scipy.stats.ttest_ind(O_fr_ori, O_fr_sup_endeb)"
   ]
  },
  {
   "cell_type": "code",
   "execution_count": null,
   "metadata": {},
   "outputs": [],
   "source": []
  },
  {
   "cell_type": "markdown",
   "metadata": {},
   "source": [
    "# 5. Bias in TR"
   ]
  },
  {
   "cell_type": "code",
   "execution_count": 7,
   "metadata": {},
   "outputs": [],
   "source": [
    "tr_ori_file = '/home/jyzhao/git7/fastText/alignment/data/wiki.tr.vec'\n",
    "tr_ali_file = '/home/jyzhao/git7/fastText/alignment/res/wiki.tr.align.vec'"
   ]
  },
  {
   "cell_type": "code",
   "execution_count": null,
   "metadata": {},
   "outputs": [],
   "source": [
    "tr_ori_E = we.WordEmbedding(tr_ori_file)\n",
    "tr_ali_E = we.WordEmbedding(tr_ali_file)"
   ]
  },
  {
   "cell_type": "code",
   "execution_count": 9,
   "metadata": {},
   "outputs": [],
   "source": [
    "tr_gender_pairs = json.load(open('tr_gender_pairs.json', 'r'))"
   ]
  },
  {
   "cell_type": "code",
   "execution_count": 10,
   "metadata": {},
   "outputs": [],
   "source": [
    "#We generate the occupations in TR by using the bilingual dictionary provided in fastText\n",
    "def get_dic(dic_file):\n",
    "    en2lg = defaultdict(list)\n",
    "    with open(dic_file, 'r') as f:\n",
    "        for line in f:\n",
    "            en, lg = line.strip().split()\n",
    "            en2lg[en].append(lg)\n",
    "    return en2lg"
   ]
  },
  {
   "cell_type": "code",
   "execution_count": 11,
   "metadata": {},
   "outputs": [],
   "source": [
    "en2tr = get_dic('/home/jyzhao/git7/fastText/alignment/data/en-tr.txt')"
   ]
  },
  {
   "cell_type": "code",
   "execution_count": 13,
   "metadata": {},
   "outputs": [],
   "source": [
    "def get_tr_prof(en_occ_def_f, en_occ_def_m): #remove the occpuation that only one gendered version is in the dict\n",
    "    tr_profs = []\n",
    "    for idx in range(len(en_occ_def_f)):\n",
    "        if len(en2tr[en_occ_def_f[idx]]) < 1 or  len(en2tr[en_occ_def_m[idx]]) < 1:\n",
    "            continue\n",
    "        tr_profs.append([en2tr[en_occ_def_f[idx]][0], en2tr[en_occ_def_m[idx]][0]])\n",
    "    return tr_profs"
   ]
  },
  {
   "cell_type": "code",
   "execution_count": 15,
   "metadata": {},
   "outputs": [
    {
     "name": "stdout",
     "output_type": "stream",
     "text": [
      "in original TR, average bias:0.07187426452453417\n",
      "in aligned TR, average bias:0.0711953996520027 \n",
      "delta(Bias) = -0.9445173137037797 \n"
     ]
    }
   ],
   "source": [
    "tr_profs = get_tr_prof(en_occ_def_f_raw, en_occ_def_m_raw)\n",
    "tr_prof_m = [x[1] for x in tr_profs]\n",
    "tr_prof_f = [x[0] for x in tr_profs]\n",
    "O_list, O_ori = cal_bias_paired(tr_ori_E, tr_prof_m, tr_prof_f, tr_gender_pairs)\n",
    "print(f\"in original TR, average bias:{O_ori}\")\n",
    "O_ali_list, O_ali = cal_bias_paired(tr_ali_E, tr_prof_m, tr_prof_f, tr_gender_pairs)\n",
    "print(f\"in aligned TR, average bias:{O_ali} \")\n",
    "print(f\"delta(Bias) = {(O_ali - O_ori) / O_ori * 100} \")"
   ]
  },
  {
   "cell_type": "markdown",
   "metadata": {},
   "source": [
    "----\n",
    "- # 6. Embedding changes along gender direction before/after alignment\n",
    "- Using ES as an example"
   ]
  },
  {
   "cell_type": "code",
   "execution_count": 84,
   "metadata": {},
   "outputs": [],
   "source": [
    "m_f_w = [['beau', 'belle'],\n",
    "         ['dudes', 'gals'],\n",
    "         ['governor', 'governess'],\n",
    "         ['dude', 'chick'],\n",
    "         ['tailor', 'seamstress'],\n",
    "         ['stewards', 'stewardesses'],\n",
    "        ]"
   ]
  },
  {
   "cell_type": "code",
   "execution_count": 85,
   "metadata": {},
   "outputs": [],
   "source": [
    "plt.rcParams.update({'font.size': 15})"
   ]
  },
  {
   "cell_type": "code",
   "execution_count": 86,
   "metadata": {},
   "outputs": [],
   "source": [
    "def plot_titles_gd(E, gender_pairs, titles_m, titles_f):\n",
    "    gd = np.average([(E.v(gender_pairs[idx][0]) - E.v(gender_pairs[idx][1])) for idx in range(len(gender_pairs))], axis = 0)\n",
    "    x_m = [np.dot(E.v(x), gd) for x in titles_m if x in E.words]\n",
    "    x_f = [np.dot(E.v(x), gd) for x in titles_f if x in E.words]\n",
    "    x_seed_m = np.average([np.dot(E.v(x[1]), gd) for x in gender_pairs if x[1] in E.words])\n",
    "    x_seed_f = np.average([np.dot(E.v(x[0]), gd) for x in gender_pairs if x[0] in E.words])\n",
    "    y = [x for x in range(len(titles_m))]\n",
    "    fig= plt.figure(figsize=(6.4,4.8))\n",
    "    plt.xlim(-0.12, 0.17)\n",
    "    plt.yticks([])\n",
    "#     plt.autoscale(enable=True, axis='y', tight=True)\n",
    "    plt.plot(x_m, y, 'go', label='M.')\n",
    "    plt.plot(x_f, y, 'rs', label = 'F.')\n",
    "    plt.plot(x_seed_m, np.average(y), 'gP', )\n",
    "    plt.plot(x_seed_f, np.average(y), 'rD')\n",
    "    plt.annotate('Avg-M', (x_seed_m-0.01, np.average(y)+0.15), fontsize=15)\n",
    "    plt.annotate('Avg-F', (x_seed_f-0.03, np.average(y) + 0.15), fontsize=15)\n",
    "    for idx in range(len(titles_m)):\n",
    "        if titles_m[idx] in ['stewards']:\n",
    "            plt.annotate(titles_m[idx], (x_m[idx]-0.04, y[idx]-0.15), fontsize=15)\n",
    "        else:\n",
    "            plt.annotate(titles_m[idx], (x_m[idx]-0.02, y[idx]-0.2), fontsize=15)\n",
    "        if titles_f[idx] in ['seamstress']:\n",
    "            plt.annotate(titles_f[idx], (x_f[idx]-0.03, y[idx]-0.2), fontsize=15)\n",
    "        elif titles_f[idx] in ['stewardesses']:\n",
    "            plt.annotate(titles_f[idx], (x_f[idx]+0.003, y[idx]-0.3), fontsize=15)\n",
    "        else:\n",
    "            plt.annotate(titles_f[idx], (x_f[idx]-0.005, y[idx]-0.2), fontsize=15)\n",
    "    plt.legend()\n",
    "    plt.savefig('es-ori_titles.pdf')\n",
    "    plt.show()\n",
    "    plt.close()"
   ]
  },
  {
   "cell_type": "code",
   "execution_count": 87,
   "metadata": {},
   "outputs": [
    {
     "data": {
      "image/png": "[encoded data removed]",
      "text/plain": [
       "<Figure size 460.8x345.6 with 1 Axes>"
      ]
     },
     "metadata": {
      "needs_background": "light"
     },
     "output_type": "display_data"
    }
   ],
   "source": [
    "plot_titles_gd(es_ori_E, es_gender_pairs, [x[0] for x in m_f_w], [x[1] for x in m_f_w])\n",
    "# plot_titles_gd(es_ali_E, es_gender_pairs, [x[0] for x in m_f_w], [x[1] for x in m_f_w])\n",
    "# plot_titles_gd(es_sup_de_E, es_gender_pairs, [x[0] for x in m_f_w], [x[1] for x in m_f_w])\n",
    "# plot_titles_gd(es_sup_endeb_E, es_gender_pairs, [x[0] for x in m_f_w], [x[1] for x in m_f_w])"
   ]
  },
  {
   "cell_type": "code",
   "execution_count": null,
   "metadata": {},
   "outputs": [],
   "source": []
  }
 ],
 "metadata": {
  "kernelspec": {
   "display_name": "Python 3",
   "language": "python",
   "name": "python3"
  },
  "language_info": {
   "codemirror_mode": {
    "name": "ipython",
    "version": 3
   },
   "file_extension": ".py",
   "mimetype": "text/x-python",
   "name": "python",
   "nbconvert_exporter": "python",
   "pygments_lexer": "ipython3",
   "version": "3.7.1"
  }
 },
 "nbformat": 4,
 "nbformat_minor": 2
}
